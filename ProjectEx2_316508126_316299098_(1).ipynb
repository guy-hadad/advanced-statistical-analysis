{
  "nbformat": 4,
  "nbformat_minor": 0,
  "metadata": {
    "colab": {
      "name": "ProjectEx2_316508126_316299098 (1).ipynb",
      "provenance": [],
      "collapsed_sections": []
    },
    "kernelspec": {
      "display_name": "Python 3",
      "name": "python3"
    },
    "language_info": {
      "name": "python"
    }
  },
  "cells": [
    {
      "cell_type": "code",
      "metadata": {
        "id": "syrAQN_t0Dye"
      },
      "source": [
        "import seaborn as sns\n",
        "import matplotlib.pyplot as plt\n",
        "import pandas as pd\n",
        "\n",
        "df_heart = pd.read_csv('framingham_heart_disease.csv')"
      ],
      "execution_count": null,
      "outputs": []
    },
    {
      "cell_type": "markdown",
      "metadata": {
        "id": "DOS5Qw9I2hEP"
      },
      "source": [
        "**1. אמידה**"
      ]
    },
    {
      "cell_type": "markdown",
      "metadata": {
        "id": "2KVondKZ2pHP"
      },
      "source": [
        "א - ממוצע של רמת הגלוקוז בקרב מעשנים לעומת לא מעשנים\n"
      ]
    },
    {
      "cell_type": "code",
      "metadata": {
        "colab": {
          "base_uri": "https://localhost:8080/"
        },
        "id": "-9lOWcYW0qCN",
        "outputId": "6ad5bc51-bd8d-46fb-a036-77feb1179529"
      },
      "source": [
        "relevant_features = ['currentSmoker', 'glucose']\n",
        "df = df_heart[relevant_features]\n",
        "print(df)\n",
        "means = df.groupby('currentSmoker')['glucose'].mean()\n",
        "print(means)"
      ],
      "execution_count": null,
      "outputs": [
        {
          "output_type": "stream",
          "name": "stdout",
          "text": [
            "      currentSmoker  glucose\n",
            "0                 0     77.0\n",
            "1                 0     76.0\n",
            "2                 1     70.0\n",
            "3                 1    103.0\n",
            "4                 1     85.0\n",
            "...             ...      ...\n",
            "4233              1     86.0\n",
            "4234              1     68.0\n",
            "4235              1     86.0\n",
            "4236              1      NaN\n",
            "4237              0    107.0\n",
            "\n",
            "[4238 rows x 2 columns]\n",
            "currentSmoker\n",
            "0    83.302907\n",
            "1    80.579672\n",
            "Name: glucose, dtype: float64\n"
          ]
        }
      ]
    },
    {
      "cell_type": "markdown",
      "metadata": {
        "id": "zq46NcJa2zqn"
      },
      "source": [
        "ב - רווחי סמך"
      ]
    },
    {
      "cell_type": "code",
      "metadata": {
        "id": "V1FUyFxu22lF"
      },
      "source": [
        "import numpy as np\n",
        "import scipy.stats as st\n",
        "\n",
        "non_smoker = df[df['currentSmoker']== 0]\n",
        "smoker = df[df['currentSmoker'] == 1]\n",
        "non_smoker=non_smoker.dropna()\n",
        "smoker=smoker.dropna()\n",
        "smoker_data = list(smoker['glucose'])\n",
        "non_smoker_data = list(non_smoker['glucose'])\n",
        "\n",
        "def ci (df, to_print=True):\n",
        "  non_smoker = df[df['currentSmoker']== 0]\n",
        "  smoker = df[df['currentSmoker'] == 1]\n",
        "  non_smoker=non_smoker.dropna()\n",
        "  smoker=smoker.dropna()\n",
        "  smoker_data = list(smoker['glucose'])\n",
        "  non_smoker_data = list(non_smoker['glucose'])\n",
        "  non_smoker_ci = st.t.interval(alpha=0.95, df=len(non_smoker_data)-1, loc=np.mean(non_smoker_data), scale=st.sem(non_smoker_data)) \n",
        "  smoker_ci = st.t.interval(alpha=0.95, df=len(smoker_data)-1, loc=np.mean(smoker_data), scale=st.sem(smoker_data))\n",
        "  if (to_print):\n",
        "    print(\"Non Smoker CI \")\n",
        "    print(\"average is:\" ,np.mean(non_smoker_data),\" and CI is: \", non_smoker_ci)\n",
        "    print(\"Smoker CI \")\n",
        "    print(\"average is:\" ,np.mean(smoker_data),\" and CI is: \", smoker_ci)\n",
        "  return non_smoker_ci, smoker_ci"
      ],
      "execution_count": null,
      "outputs": []
    },
    {
      "cell_type": "code",
      "metadata": {
        "colab": {
          "base_uri": "https://localhost:8080/"
        },
        "id": "zjRdI_bqeyOM",
        "outputId": "887cf646-fd07-41a2-8ab4-f8484ba0dee5"
      },
      "source": [
        "ci = ci(df, to_print=True)\n",
        "print()"
      ],
      "execution_count": null,
      "outputs": [
        {
          "output_type": "stream",
          "name": "stdout",
          "text": [
            "Non Smoker CI \n",
            "average is: 83.30290668026517  and CI is:  (82.15527490108059, 84.45053845944975)\n",
            "Smoker CI \n",
            "average is: 80.5796717840127  and CI is:  (79.60195560880419, 81.55738795922122)\n",
            "\n"
          ]
        }
      ]
    },
    {
      "cell_type": "markdown",
      "metadata": {
        "id": "nHGHk-FB939H"
      },
      "source": [
        "רווחי הסמך אינם חופפים ולכן ניתן להסיק שהתוחלת עבור האכלוסיות היא שונה ברמת בטחון של 95%\n",
        "\n",
        "---\n",
        "\n"
      ]
    },
    {
      "cell_type": "markdown",
      "metadata": {
        "id": "4BLwONSq_mt7"
      },
      "source": [
        "**2. מבחני השערות**"
      ]
    },
    {
      "cell_type": "markdown",
      "metadata": {
        "id": "159a1-sP_sGo"
      },
      "source": [
        "א. השערת האפס - אין הבדל בתוחלת רמת הגלוקוז בקרב מעשנים לעומת לא מעשנים.\n",
        "השערה אלטרנטיבית - יש הבדל."
      ]
    },
    {
      "cell_type": "markdown",
      "metadata": {
        "id": "0fAM9u9tfJw0"
      },
      "source": [
        "ב. הנחת הנורמליות לא מתקיימת ולכן לא ניתן להסתמך על מבחן טי\n",
        "ניתן לראות זאת בהיסטוגרמה הבאה וגם בהשוואת השברונים בqqplot"
      ]
    },
    {
      "cell_type": "code",
      "metadata": {
        "colab": {
          "base_uri": "https://localhost:8080/",
          "height": 286
        },
        "id": "0DHXlK-4gbIt",
        "outputId": "39488427-e866-4d61-bfac-ba3eaa018901"
      },
      "source": [
        "df_glu = df[\"glucose\"].dropna()\n",
        "df_glu.hist(bins=200)\n"
      ],
      "execution_count": null,
      "outputs": [
        {
          "output_type": "execute_result",
          "data": {
            "text/plain": [
              "<matplotlib.axes._subplots.AxesSubplot at 0x7f47c9cdcb50>"
            ]
          },
          "metadata": {},
          "execution_count": 108
        },
        {
          "output_type": "display_data",
          "data": {
            "image/png": "[encoded data removed]",
            "text/plain": [
              "<Figure size 432x288 with 1 Axes>"
            ]
          },
          "metadata": {
            "needs_background": "light"
          }
        }
      ]
    },
    {
      "cell_type": "code",
      "metadata": {
        "colab": {
          "base_uri": "https://localhost:8080/",
          "height": 279
        },
        "id": "fN5v6BOWgeAk",
        "outputId": "b7ee66b1-bd82-40a5-efc8-1f36b718d583"
      },
      "source": [
        "from numpy.random import seed\n",
        "from numpy.random import randn\n",
        "from statsmodels.graphics.gofplots import qqplot\n",
        "from matplotlib import pyplot\n",
        "# seed the random number generator\n",
        "seed(1)\n",
        "# generate univariate observations\n",
        "data = 5 * randn(100) + 50\n",
        "# q-q plot\n",
        "qqplot(df_glu, line='s')\n",
        "pyplot.show()"
      ],
      "execution_count": null,
      "outputs": [
        {
          "output_type": "display_data",
          "data": {
            "image/png": "[encoded data removed]",
            "text/plain": [
              "<Figure size 432x288 with 1 Axes>"
            ]
          },
          "metadata": {
            "needs_background": "light"
          }
        }
      ]
    },
    {
      "cell_type": "markdown",
      "metadata": {
        "id": "6Ywpg_AbfqFn"
      },
      "source": [
        "ד. מבחן וואלד"
      ]
    },
    {
      "cell_type": "code",
      "metadata": {
        "id": "eo9PX46N_3C3",
        "colab": {
          "base_uri": "https://localhost:8080/"
        },
        "outputId": "ee9d901c-e046-4811-fefe-8eeb490c6006"
      },
      "source": [
        "#WALD TEST\n",
        "def wald_test(smoker_data, non_smoker_data):\n",
        "  smoker_miu_hat = np.mean(smoker_data)\n",
        "  non_smoker_miu_hat = np.mean(non_smoker_data)\n",
        "  delta_hat = smoker_miu_hat - non_smoker_miu_hat\n",
        "\n",
        "  smoker_se_hat = st.sem(smoker_data)\n",
        "  non_smoker_se_hat = st.sem(non_smoker_data)\n",
        "\n",
        "  smoker_len = len(smoker_data)\n",
        "  non_smoker_len = len(non_smoker_data)\n",
        "\n",
        "  wald_statisty = delta_hat/(smoker_se_hat**2/smoker_len +non_smoker_se_hat**2/non_smoker_len)**0.5\n",
        "\n",
        "  if abs(wald_statisty)> 1.96:\n",
        "    return \"reject\", \"wald statisty is:\", wald_statisty\n",
        "  return \"do not rject\", \"wald statisty is:\", wald_statisty\n",
        "\n",
        "wald_res = wald_test(smoker_data, non_smoker_data)\n",
        "print(wald_res)"
      ],
      "execution_count": null,
      "outputs": [
        {
          "output_type": "stream",
          "name": "stdout",
          "text": [
            "('reject', 'wald statisty is:', -155.62984838908187)\n"
          ]
        }
      ]
    },
    {
      "cell_type": "markdown",
      "metadata": {
        "id": "5epqEc_9gt5S"
      },
      "source": [
        "ה. "
      ]
    },
    {
      "cell_type": "markdown",
      "metadata": {
        "id": "chf9Okc1e3u0"
      },
      "source": [
        "ניתן לראות ש\n",
        "p-value\n",
        "\n",
        "מאוד קטן, וזה בהחלט מסתדר עם הציפייה.\n"
      ]
    },
    {
      "cell_type": "code",
      "metadata": {
        "id": "UbVosHkQnbeD"
      },
      "source": [
        "from scipy import stats\n",
        "def pvalue(x, y):\n",
        "  x = np.array(x)\n",
        "  y = np.array(y)\n",
        "  x_bar, y_bar = x.mean(), y.mean()\n",
        "  x_se, y_se = x.std(), y.std()\n",
        "  n, m = len(x), len(y)\n",
        "\n",
        "  T = (x_bar - y_bar) / np.sqrt((((x_se**2 / n)) + (y_se**2 / m)))\n",
        "  return 2 * stats.norm.pdf(-abs(T))"
      ],
      "execution_count": null,
      "outputs": []
    },
    {
      "cell_type": "code",
      "metadata": {
        "colab": {
          "base_uri": "https://localhost:8080/"
        },
        "id": "LUP19ThineEq",
        "outputId": "a541f94b-3d10-46ae-b03f-0f4803cab4fe"
      },
      "source": [
        "print(\"p-value is: \",pvalue(smoker_data,non_smoker_data))"
      ],
      "execution_count": null,
      "outputs": [
        {
          "output_type": "stream",
          "name": "stdout",
          "text": [
            "p-value is:  0.001498004632214346\n"
          ]
        }
      ]
    },
    {
      "cell_type": "markdown",
      "metadata": {
        "id": "hiKKS3C3Z3Gs"
      },
      "source": [
        "ו.\n",
        "\n",
        "נשוה למודל של התפלגות נורמלית.\n",
        "\n",
        "\n",
        "likelihood ratio:\n",
        "h0- התוחלות שוות\n",
        "h1- התוחלות שונות\n",
        "זהו ממבחן דו צדדי.\n",
        "סטטיסי המבחן:\n",
        "\n",
        "${T.S.:\\left(\\frac{\\bar{X}-\\bar{Y}}{\\sqrt{\\sigma^{2}\\left(\\frac{1}{n}+\\frac{1}{m}\\right)}}\\right)^{2}}$\n",
        "\n",
        "$R.R: T > \\chi^2_{1},{\\alpha}$"
      ]
    },
    {
      "cell_type": "code",
      "metadata": {
        "id": "Yem9NWnCax3j"
      },
      "source": [
        "from scipy import stats\n",
        "def log_likelihood_ratio_test(x1, x2):\n",
        "    x1 = np.array(x1)\n",
        "    x2 = np.array(x2)\n",
        "    s = (x1.std()**2)*(1 / len(x1) + 1 /len(x2))\n",
        "    x_bar = x1.mean()- x2.mean()\n",
        "    z_sq = (x_bar/(s)**0.5)**2 # chisq(1)  \n",
        "    c = stats.chi2.ppf(0.95,1)\n",
        "   \n",
        "    if z_sq > c:\n",
        "        print(\"Reject H0\")\n",
        "    else:\n",
        "        print(\"Don't reject H0\")"
      ],
      "execution_count": null,
      "outputs": []
    },
    {
      "cell_type": "code",
      "metadata": {
        "colab": {
          "base_uri": "https://localhost:8080/"
        },
        "id": "ZboEOv-3a1ap",
        "outputId": "ca3f0879-24ff-43c9-cce3-f1fe498d2b94"
      },
      "source": [
        "log_likelihood_ratio_test(smoker_data, non_smoker_data)"
      ],
      "execution_count": null,
      "outputs": [
        {
          "output_type": "stream",
          "name": "stdout",
          "text": [
            "Reject H0\n"
          ]
        }
      ]
    },
    {
      "cell_type": "markdown",
      "metadata": {
        "id": "VjtbjCqsZCB1"
      },
      "source": [
        "שאלה 3"
      ]
    },
    {
      "cell_type": "code",
      "metadata": {
        "id": "UwDjvlqVhZzv"
      },
      "source": [
        "def ci_for3 (smoker_data, non_smoker_data, to_print=True):\n",
        "  non_smoker_ci = st.t.interval(alpha=0.95, df=len(non_smoker_data)-1, loc=np.mean(non_smoker_data), scale=st.sem(non_smoker_data)) \n",
        "  smoker_ci = st.t.interval(alpha=0.95, df=len(smoker_data)-1, loc=np.mean(smoker_data), scale=st.sem(smoker_data))\n",
        "  if (to_print):\n",
        "    print(\"Non Smoker CI \")\n",
        "    print(\"average is:\" ,np.mean(non_smoker_data),\" and CI is: \", non_smoker_ci)\n",
        "    print(\"Smoker CI \")\n",
        "    print(\"average is:\" ,np.mean(smoker_data),\" and CI is: \", smoker_ci)\n",
        "  return non_smoker_ci, smoker_ci"
      ],
      "execution_count": null,
      "outputs": []
    },
    {
      "cell_type": "code",
      "metadata": {
        "id": "CLyA03WTfcR9"
      },
      "source": [
        "#general function to implement the split\n",
        "def sample_and_split(df, n):\n",
        "  df = df.sample(n=n)\n",
        "  non_smoker = df[df['currentSmoker']== 0]\n",
        "  smoker = df[df['currentSmoker'] == 1]\n",
        "  non_smoker=non_smoker.dropna()\n",
        "  smoker=smoker.dropna()\n",
        "  smoker_data = list(smoker['glucose'])\n",
        "  non_smoker_data = list(non_smoker['glucose'])\n",
        "  return(smoker_data, non_smoker_data)"
      ],
      "execution_count": null,
      "outputs": []
    },
    {
      "cell_type": "code",
      "metadata": {
        "colab": {
          "base_uri": "https://localhost:8080/"
        },
        "id": "zNODOqunf-qZ",
        "outputId": "8d579936-6b0f-444b-f8cc-4bdef3a93b1a"
      },
      "source": [
        "sizes = [30, 50, 100, 500]\n",
        "\n",
        "for n in sizes:\n",
        "  print(\"sample size: \" + str(n))\n",
        "  smoker, non_smoker = sample_and_split(df,n)\n",
        "  smoker_ci, non_smoker_ci = ci_for3(smoker, non_smoker)\n",
        "  print(\"Smoker CI: \" + str(smoker_ci))\n",
        "  print(\"Non smoker CI: \" + str(non_smoker_ci))\n",
        "  print(\"\")"
      ],
      "execution_count": null,
      "outputs": [
        {
          "output_type": "stream",
          "name": "stdout",
          "text": [
            "sample size: 30\n",
            "Non Smoker CI \n",
            "average is: 84.8  and CI is:  (77.12642856728321, 92.47357143271678)\n",
            "Smoker CI \n",
            "average is: 87.15789473684211  and CI is:  (76.88652926796524, 97.42926020571898)\n",
            "Smoker CI: (77.12642856728321, 92.47357143271678)\n",
            "Non smoker CI: (76.88652926796524, 97.42926020571898)\n",
            "\n",
            "sample size: 50\n",
            "Non Smoker CI \n",
            "average is: 81.77777777777777  and CI is:  (72.5283796459384, 91.02717590961714)\n",
            "Smoker CI \n",
            "average is: 88.35714285714286  and CI is:  (69.43277903295554, 107.28150668133019)\n",
            "Smoker CI: (72.5283796459384, 91.02717590961714)\n",
            "Non smoker CI: (69.43277903295554, 107.28150668133019)\n",
            "\n",
            "sample size: 100\n",
            "Non Smoker CI \n",
            "average is: 81.23076923076923  and CI is:  (77.4184502296965, 85.04308823184195)\n",
            "Smoker CI \n",
            "average is: 84.14634146341463  and CI is:  (76.76060563148903, 91.53207729534023)\n",
            "Smoker CI: (77.4184502296965, 85.04308823184195)\n",
            "Non smoker CI: (76.76060563148903, 91.53207729534023)\n",
            "\n",
            "sample size: 500\n",
            "Non Smoker CI \n",
            "average is: 85.50597609561753  and CI is:  (82.50935479282681, 88.50259739840824)\n",
            "Smoker CI \n",
            "average is: 80.51980198019803  and CI is:  (78.40664453263504, 82.63295942776101)\n",
            "Smoker CI: (82.50935479282681, 88.50259739840824)\n",
            "Non smoker CI: (78.40664453263504, 82.63295942776101)\n",
            "\n"
          ]
        }
      ]
    },
    {
      "cell_type": "markdown",
      "metadata": {
        "id": "NZQwSU8b7Vec"
      },
      "source": [
        "אם נשווה את רווחי הסמך המקורבים שמצאנו לרווחי הסמך בשאלה 1 נוכל לראות שגודל הרווח הוא פונקציה שתלויה בגודל המדגם בהתאם למה שהוכחנו בכיתה. בנוסף נוכל גם לראות שהמיקום של הרווח משתנה כתלות בגודל המדגם כאשר הוא שואף לתוצאות בשאלה 1 כאשר הם שואפות לתוחלת ה\"אמיתית\" של הנתונים."
      ]
    },
    {
      "cell_type": "code",
      "metadata": {
        "id": "S86wqw8MiMYG"
      },
      "source": [
        "def wald_3(x, y, alpha):\n",
        "  x= np.array(x)\n",
        "  y= np.array(y)\n",
        "  x_bar = x.mean()\n",
        "  y_bar = y.mean()\n",
        "  x_se = x.std()\n",
        "  y_se = y.std()\n",
        "  n = len(x)\n",
        "  m = len(y)\n",
        "  T = (x_bar - y_bar) / np.sqrt((((x_se**2 / n)) + (y_se**2 / m)))\n",
        "  quantile_alpha = stats.norm.ppf(1 - (alpha / 2))\n",
        "  print(\"Test statistic is \" + str(T)) \n",
        "  if abs(T) > quantile_alpha:\n",
        "    print(\"Reject H0\")\n",
        "  else:\n",
        "    print(\"Don't rejecrt H0\")"
      ],
      "execution_count": null,
      "outputs": []
    },
    {
      "cell_type": "markdown",
      "metadata": {
        "id": "6bm6tyMK0W3O"
      },
      "source": [
        "אנחנו רואים שלא תמיד לכל המדגמים אנחנו דוחים את השערת הבסיס גם בגלל השונות וגם בגלל הצד הרנדומלי של הגרלת המדגם. אך באופן כללי ככל שהמדגם גדול יותר תקטן ההשפעה של המדגם הספציפי ונשאף לתוצאה משאלה 2"
      ]
    },
    {
      "cell_type": "code",
      "metadata": {
        "colab": {
          "base_uri": "https://localhost:8080/"
        },
        "id": "V5gE7deJxheL",
        "outputId": "bc2ac86d-fa24-415f-f85e-7a5fbc04352e"
      },
      "source": [
        "for n in sizes:\n",
        "  print(\"sample = \" + str(n))\n",
        "  smoker, non_smoker = sample_and_split(df,n)\n",
        "  print(wald_test(smoker, non_smoker))\n",
        "  print(\"\")"
      ],
      "execution_count": null,
      "outputs": [
        {
          "output_type": "stream",
          "name": "stdout",
          "text": [
            "sample = 30\n",
            "('do not rject', 'wald statisty is:', -1.8976515911812426)\n",
            "\n",
            "sample = 50\n",
            "('do not rject', 'wald statisty is:', 0.7820958545147092)\n",
            "\n",
            "sample = 100\n",
            "('reject', 'wald statisty is:', 10.63861683406615)\n",
            "\n",
            "sample = 500\n",
            "('reject', 'wald statisty is:', 9.069731584626542)\n",
            "\n"
          ]
        }
      ]
    },
    {
      "cell_type": "code",
      "metadata": {
        "id": "wxikRnuUivr8"
      },
      "source": [
        "# for n in sizes:\n",
        "#   print(\"sample = \" + str(n))\n",
        "#   smoker, non_smoker = sample_and_split(df,n)\n",
        "#   wald_3(smoker, non_smoker, 0.05)\n",
        "#   print(\"\")"
      ],
      "execution_count": null,
      "outputs": []
    },
    {
      "cell_type": "markdown",
      "metadata": {
        "id": "hxVkWuOu8a2J"
      },
      "source": [
        "סעיף ד: ניתן לראות שגן אורך רווחי הסמך וגם הערך ה\n",
        "p value\n",
        "יורד ככל שגודל המדגם גדל.\n",
        "בנוסף אפשר גם לראות שככל שהמדגם גדל כך גם הפרופורציות שהממוצע בתוך הרווח סמך גם גדלה וגם זאת כמובן תוצאה שציפינו לה."
      ]
    },
    {
      "cell_type": "code",
      "metadata": {
        "id": "itLpkaY8je8o"
      },
      "source": [
        "def sample_size_vis(data, title, y_label, name=None):\n",
        "  x = list(data.keys())\n",
        "  y = list(data.values())\n",
        "  fig = sns.lineplot(x=x, y=y, marker='o')\n",
        "  fig.set(title = title, xlabel = 'Sample Size', ylabel = y_label)\n",
        "  plt.legend(labels=name)"
      ],
      "execution_count": null,
      "outputs": []
    },
    {
      "cell_type": "code",
      "metadata": {
        "id": "-nKedERclnKi"
      },
      "source": [
        "from scipy import stats\n",
        "def pvalue(x, y):\n",
        "  x = np.array(x)\n",
        "  y = np.array(y)\n",
        "  x_bar, y_bar = x.mean(), y.mean()\n",
        "  x_se, y_se = x.std(), y.std()\n",
        "  n, m = len(x), len(y)\n",
        "\n",
        "  T = (x_bar - y_bar) / np.sqrt((((x_se**2 / n)) + (y_se**2 / m)))\n",
        "  return 2 * stats.norm.pdf(-abs(T))"
      ],
      "execution_count": null,
      "outputs": []
    },
    {
      "cell_type": "code",
      "metadata": {
        "id": "PgVcKsiwjhK1"
      },
      "source": [
        "smoker_results_lens, smoker_results_prop, = {}, {}\n",
        "non_smoker_results_lens, non_smoker_results_prop = {}, {}\n",
        "results_pvalue = {}\n",
        "\n",
        "\n",
        "for n in sizes:\n",
        "  smoker_ci_lens, non_smoker_ci_lens = [], []\n",
        "  smoker_prop, non_smoker_prop = [], []\n",
        "  pvalues = []\n",
        "  for i in range(100):\n",
        "    smoker,non_smoker = sample_and_split(df,n)\n",
        "\n",
        "    non_smoker_ci, smoker_ci = ci_for3(smoker, non_smoker, to_print=False)\n",
        "    # print(smoker_ci)\n",
        "    smoker_ci_lens.append(smoker_ci[1] - smoker_ci[0])\n",
        "    smoker_prop.append(smoker_ci[0] < 80.5 < smoker_ci[1]) #mean of smokers\n",
        "\n",
        "    non_smoker_ci_lens.append(non_smoker_ci[1] - non_smoker_ci[0])\n",
        "    non_smoker_prop.append(non_smoker_ci[0] < 83.3 < non_smoker_ci[1]) #mean of non smokers\n",
        "    #pvalue\n",
        "    pvalues.append(pvalue(smoker,non_smoker)) \n",
        "\n",
        "  smoker_results_lens[n] = sum(smoker_ci_lens) / len(smoker_ci_lens)\n",
        "  smoker_results_prop[n] = sum(smoker_prop) / len(smoker_prop)\n",
        "\n",
        "  non_smoker_results_lens[n] = sum(non_smoker_ci_lens) / len(non_smoker_ci_lens)\n",
        "  non_smoker_results_prop[n] = sum(non_smoker_prop) / len(non_smoker_prop)\n",
        "\n",
        "  results_pvalue[n] = sum(pvalues) / len(pvalues)\n",
        "\n",
        "\n"
      ],
      "execution_count": null,
      "outputs": []
    },
    {
      "cell_type": "code",
      "metadata": {
        "colab": {
          "base_uri": "https://localhost:8080/",
          "height": 851
        },
        "id": "LxoPmYM-nHb6",
        "outputId": "12f32409-ba46-4d3c-c398-66a0bc0ed845"
      },
      "source": [
        "ci_lens = pd.DataFrame([smoker_results_lens, non_smoker_results_lens])\n",
        "names = [\"Smokers\", \"Non Smoker\"]\n",
        "\n",
        "sample_size_vis(smoker_results_lens, \"CI length\", \"CI length\", names)\n",
        "sample_size_vis(non_smoker_results_lens, \"CI length\", \"CI length\", names)\n",
        "plt.show()\n",
        "\n",
        "sample_size_vis(smoker_results_prop, \"Proportion of mean in the CI\", \"proportion\", names)\n",
        "sample_size_vis(non_smoker_results_prop, \"Proportion of mean in the CI\", \"proportion\", names)\n",
        "plt.show()\n",
        "\n",
        "sample_size_vis(results_pvalue, \"pvalue\", \"pvalue\", ['pvalue'])\n",
        "plt.show()"
      ],
      "execution_count": null,
      "outputs": [
        {
          "output_type": "display_data",
          "data": {
            "image/png": "[encoded data removed]",
            "text/plain": [
              "<Figure size 432x288 with 1 Axes>"
            ]
          },
          "metadata": {
            "needs_background": "light"
          }
        },
        {
          "output_type": "display_data",
          "data": {
            "image/png": "[encoded data removed]",
            "text/plain": [
              "<Figure size 432x288 with 1 Axes>"
            ]
          },
          "metadata": {
            "needs_background": "light"
          }
        },
        {
          "output_type": "display_data",
          "data": {
            "image/png": "[encoded data removed]",
            "text/plain": [
              "<Figure size 432x288 with 1 Axes>"
            ]
          },
          "metadata": {
            "needs_background": "light"
          }
        }
      ]
    }
  ]
}