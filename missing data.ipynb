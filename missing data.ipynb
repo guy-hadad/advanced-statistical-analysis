{
  "nbformat": 4,
  "nbformat_minor": 0,
  "metadata": {
    "colab": {
      "name": "Project_ex5b_316299098_316508126.ipynb",
      "provenance": [],
      "collapsed_sections": []
    },
    "kernelspec": {
      "name": "python3",
      "display_name": "Python 3"
    },
    "language_info": {
      "name": "python"
    }
  },
  "cells": [
    {
      "cell_type": "markdown",
      "source": [
        "# **project 5 - part B**\n",
        "\n",
        "Guy Hadad 316508126\n",
        "\n",
        "Noam Shamir 316299098"
      ],
      "metadata": {
        "id": "mUUzJzVofIC4"
      }
    },
    {
      "cell_type": "code",
      "metadata": {
        "id": "hjsGeIMFQ-Qh"
      },
      "source": [
        "import pandas as pd\n",
        "import numpy as np\n",
        "from matplotlib import pyplot as plt\n",
        "import seaborn as sns\n",
        "from scipy import stats\n",
        "import math\n",
        "import datetime \n",
        "from datetime import datetime, date\n",
        "import seaborn as sns\n",
        "from tabulate import tabulate\n",
        "import random\n",
        "from scipy.stats import bernoulli\n",
        "import copy\n"
      ],
      "execution_count": 138,
      "outputs": []
    },
    {
      "cell_type": "code",
      "metadata": {
        "id": "VCbMsOi3Q8Ta"
      },
      "source": [
        "df = pd.read_csv('framingham_heart_disease.csv')"
      ],
      "execution_count": 139,
      "outputs": []
    },
    {
      "cell_type": "markdown",
      "source": [
        "נבחר את המשתנים המסבירים:\n",
        "\n",
        "\n",
        "גיל (רציף)\n",
        "\n",
        "מין (בדיד)\n",
        "\n",
        "כולסטרול (רציף)\n",
        "\n",
        "והמשתנה המוסבר: לחץ דם (סיסטולי)\n",
        "\n",
        "\n"
      ],
      "metadata": {
        "id": "83czQjQB8__v"
      }
    },
    {
      "cell_type": "code",
      "source": [
        "#Q1\n",
        "#sample 1000 rows \n",
        "n = 1000\n",
        "df1000 = df.sample(n, random_state=0).reset_index(inplace=False).drop(['index'], axis= 1)\n",
        "df1000.dropna(how='any', subset=['male','totChol', 'age', 'sysBP'], inplace=True)\n",
        "n = len(df1000)\n",
        "n"
      ],
      "metadata": {
        "colab": {
          "base_uri": "https://localhost:8080/"
        },
        "id": "dpqe0NBA87ga",
        "outputId": "e0a934d0-aec4-4343-b6b1-2bbed4ccdf7c"
      },
      "execution_count": 140,
      "outputs": [
        {
          "output_type": "execute_result",
          "data": {
            "text/plain": [
              "993"
            ]
          },
          "metadata": {},
          "execution_count": 140
        }
      ]
    },
    {
      "cell_type": "code",
      "source": [
        "#Q2\n",
        "#liner regression for sysBP\n",
        "\n",
        "x_temp = df1000[['male','totChol', 'age']].to_numpy()\n",
        "x = np.c_[np.ones(n), x_temp]\n",
        "y = df1000['sysBP'].to_numpy()\n",
        "\n",
        "b_hat = np.linalg.inv(x.T@x)@(x.T)@y\n",
        "\n",
        "print(\"Coefficients are: ['intercept', 'male','totChol', 'age']\")\n",
        "print (\"Estimated beta: \", np.round(b_hat, decimals=2))\n",
        "\n",
        "#calculate CI\n",
        "df1000[\"y_hat\"] = x@b_hat\n",
        "sse = sum(e_i**2 for e_i in (df1000['sysBP']-df1000[\"y_hat\"]))\n",
        "cis_q2 = []\n",
        "for i in range(len(b_hat)):\n",
        "    diff = stats.norm.ppf(0.975)*np.sqrt((sse/(n-4))*np.linalg.inv(x.T@x)[i][i])\n",
        "    ci = [round(b_hat[i] - diff, 2), round(b_hat[i] + diff, 2)]\n",
        "    cis_q2.append(ci)\n",
        "    print(\"CI for beta_\" + str(i)+ \" is: \", ci)"
      ],
      "metadata": {
        "colab": {
          "base_uri": "https://localhost:8080/"
        },
        "id": "8CxBPTWk-suP",
        "outputId": "36c88e47-0d10-45a6-c5ad-ab3cd31080ad"
      },
      "execution_count": 141,
      "outputs": [
        {
          "output_type": "stream",
          "name": "stdout",
          "text": [
            "Coefficients are: ['intercept', 'male','totChol', 'age']\n",
            "Estimated beta:  [ 7.111e+01 -3.400e-01  6.000e-02  9.800e-01]\n",
            "CI for beta_0 is:  [61.91, 80.3]\n",
            "CI for beta_1 is:  [-2.92, 2.25]\n",
            "CI for beta_2 is:  [0.03, 0.08]\n",
            "CI for beta_3 is:  [0.83, 1.14]\n"
          ]
        }
      ]
    },
    {
      "cell_type": "code",
      "source": [
        "#Q3\n",
        "#produce missing data\n",
        "np.random.seed(0)\n",
        "\n",
        "df_sort = df1000.sort_values('sysBP').reset_index(inplace=False)\n",
        "random_values = np.random.uniform(0,1,n)\n",
        "indices_to_remove = []\n",
        "\n",
        "for i in range(n):\n",
        "  if random_values[i] < (i/(i+430)): #this value retrieve exactly 500 rows\n",
        "    indices_to_remove.append(df_sort['index'][i])\n",
        "\n",
        "remain = set(df_sort['index']).difference(set(indices_to_remove))\n",
        "half_df = df_sort.loc[df_sort['index'].isin(remain)].reset_index(inplace=False).drop(['level_0'], axis=1)"
      ],
      "metadata": {
        "id": "FTwGqWmq_hiK"
      },
      "execution_count": 142,
      "outputs": []
    },
    {
      "cell_type": "code",
      "source": [
        "#Q4.a\n",
        "#Estimate coefficients only by data which is full\n",
        "n_half = len(half_df)\n",
        "x_temp = half_df[['male','totChol', 'age']].to_numpy()\n",
        "x_half = np.c_[np.ones(n_half), x_temp]\n",
        "y_half = half_df['sysBP'].to_numpy()\n",
        "\n",
        "b_hat_half = np.linalg.inv(x_half.T@x_half)@(x_half.T)@y_half\n",
        "\n",
        "print(\"Coefficients are: ['intercept', 'male','totChol', 'age']\")\n",
        "print (\"Estimated beta: \", np.round(b_hat_half, decimals=2))\n",
        "\n",
        "half_df[\"y_hat\"] = x_half.dot(b_hat_half)\n",
        "sse_half = sum(e_i**2 for e_i in (half_df['sysBP']-half_df[\"y_hat\"]))\n",
        "cis_4a = []\n",
        "for i in range(len(b_hat_half)):\n",
        "    diff = stats.norm.ppf(0.975)*np.sqrt((sse_half/(n-4))*np.linalg.inv(x_half.T@x_half)[i][i])\n",
        "    ci = [round(b_hat_half[i] - diff, 2), round(b_hat_half[i] + diff, 2)]\n",
        "    cis_4a.append(ci)\n",
        "    print(\"CI for beta_\" + str(i)+ \" is: \", ci)"
      ],
      "metadata": {
        "colab": {
          "base_uri": "https://localhost:8080/"
        },
        "id": "cpFGL4aYABuM",
        "outputId": "ee84294f-95d2-4411-e3b2-3c369c2db6f6"
      },
      "execution_count": 143,
      "outputs": [
        {
          "output_type": "stream",
          "name": "stdout",
          "text": [
            "Coefficients are: ['intercept', 'male','totChol', 'age']\n",
            "Estimated beta:  [ 6.494e+01 -5.100e-01  5.000e-02  1.040e+00]\n",
            "CI for beta_0 is:  [56.24, 73.63]\n",
            "CI for beta_1 is:  [-2.93, 1.91]\n",
            "CI for beta_2 is:  [0.02, 0.08]\n",
            "CI for beta_3 is:  [0.89, 1.18]\n"
          ]
        }
      ]
    },
    {
      "cell_type": "code",
      "source": [
        "#Q4.b\n",
        "# regression imputation\n",
        "\n",
        "x_temp = df_sort[['male','totChol', 'age']].to_numpy()\n",
        "x_2 = np.c_[np.ones(n), x_temp]\n",
        "y_2 = copy.deepcopy(df_sort['sysBP'].to_numpy())\n",
        "\n",
        "for i in range(len(y_2)):\n",
        "    if df_sort['index'][i] in indices_to_remove:\n",
        "        y_2[i] = x_2[i]@b_hat_half\n",
        "\n",
        "b_hat_half_2 = np.linalg.inv(x_2.T@x_2)@x_2.T@y_2\n",
        "\n",
        "print(\"Coefficients are: ['intercept', 'male','totChol', 'age']\")\n",
        "print (\"Estimated beta: \", np.round(b_hat_half_2, decimals=2))\n",
        "\n",
        "y_hat_2 = x_2.dot(b_hat_half_2)\n",
        "sse_2 = sum(i**2 for i in (y_2-y_hat_2))\n",
        "cis_4b = []\n",
        "for i in range(len(b_hat_half_2)):\n",
        "    diff = stats.norm.ppf(0.975)*np.sqrt((sse_2/(n-4))*np.linalg.inv(x_2.T@x_2)[i][i])\n",
        "    ci = [round(b_hat_half_2[i] - diff, 2), round(b_hat_half_2[i] + diff, 2)]\n",
        "    cis_4b.append(ci)\n",
        "    print(\"CI for beta_\" + str(i)+ \" is: \", ci)"
      ],
      "metadata": {
        "colab": {
          "base_uri": "https://localhost:8080/"
        },
        "id": "ICwzHYUWfgRa",
        "outputId": "624dc10b-0e9a-4272-dd32-dd878349a5fe"
      },
      "execution_count": 144,
      "outputs": [
        {
          "output_type": "stream",
          "name": "stdout",
          "text": [
            "Coefficients are: ['intercept', 'male','totChol', 'age']\n",
            "Estimated beta:  [ 6.494e+01 -5.100e-01  5.000e-02  1.040e+00]\n",
            "CI for beta_0 is:  [58.83, 71.04]\n",
            "CI for beta_1 is:  [-2.23, 1.2]\n",
            "CI for beta_2 is:  [0.03, 0.07]\n",
            "CI for beta_3 is:  [0.93, 1.14]\n"
          ]
        }
      ]
    },
    {
      "cell_type": "markdown",
      "source": [
        "קיבלנו את אותם המקדמים שהיו בסעיף הקודם.\n",
        "\n",
        "תוצאה זו לא מפתיעה כיוון שהנתונים שהוספנו כעת נמצאים על ישר הרגרסיה (שהרי נלמדו מהמודל) ולכן לא ישנו את המקדמים. להפך - הם מחזקים אותם.\n",
        "נשים לב שרווחי הסמם הצטמצמו כי השונות קטנה - כיוון שיש יותר נתונים שיושבים על ישר הרגרסיה והפיזור כעת קטן.\n"
      ],
      "metadata": {
        "id": "Iac2Vk4RiF6Q"
      }
    },
    {
      "cell_type": "code",
      "source": [
        "#Q4.c\n",
        "#multiple imputation\n",
        "\n",
        "M = n\n",
        "betas = []\n",
        "b_vars = []\n",
        "for j in range(M):\n",
        "    x_temp = df_sort[['male','totChol', 'age']].to_numpy()\n",
        "    x_3 = np.c_[np.ones(n), x_temp]\n",
        "    y_3 = df_sort['sysBP'].to_numpy()\n",
        "\n",
        "    for i in range(len(y_3)):\n",
        "        if df_sort['index'][i] in indices_to_remove:\n",
        "            y_3[i] = np.random.normal(x_3[i]@b_hat_half, sse_half/(n-4))\n",
        "    \n",
        "    b = np.linalg.inv(x_3.T@x_3)@x_3.T@y_3\n",
        "    betas.append(b)\n",
        "        \n",
        "    #CI\n",
        "    p = len(b)\n",
        "    var_hat = np.zeros(p)\n",
        "    y_hat_3 = x_3@b\n",
        "    sse_3 = sum(e_i**2 for e_i in (y_3-y_hat_3))\n",
        "    e_sq_hat = sse_3 / (n - p)\n",
        "    c = np.linalg.inv((x_3.T.dot(x_3)))\n",
        "    for i in range(p):\n",
        "        var_hat[i] = e_sq_hat*c[i][i]\n",
        "    b_vars.append(var_hat)"
      ],
      "metadata": {
        "id": "zPA4fP4ZjZgs"
      },
      "execution_count": 145,
      "outputs": []
    },
    {
      "cell_type": "code",
      "source": [
        "beta = np.zeros(4)\n",
        "for b in betas:\n",
        "    for i in range(4):\n",
        "        beta[i] += b[i]\n",
        "beta = beta / M\n",
        "\n",
        "print(\"Coefficients are: ['intercept', 'male','totChol', 'age']\")\n",
        "print(\"Estimated beta: \", np.round(beta, decimals=2))\n"
      ],
      "metadata": {
        "colab": {
          "base_uri": "https://localhost:8080/"
        },
        "id": "OSkviLIyHzcA",
        "outputId": "e1c02cb8-3ebb-4fc0-bf04-b55f8edbfb81"
      },
      "execution_count": 146,
      "outputs": [
        {
          "output_type": "stream",
          "name": "stdout",
          "text": [
            "Coefficients are: ['intercept', 'male','totChol', 'age']\n",
            "Estimated beta:  [ 6.288e+01 -8.000e-01  6.000e-02  1.040e+00]\n"
          ]
        }
      ]
    },
    {
      "cell_type": "code",
      "source": [
        "#Q4.d\n",
        "#Rubin\n",
        "p=4\n",
        "var_hat = np.zeros(p)\n",
        "sum_var = np.zeros(p)\n",
        "d = np.zeros(p)\n",
        "for j in range(M):\n",
        "    for i in range(p):\n",
        "        sum_var[i] += b_vars[j][i]\n",
        "        d[i] += (betas[j][i] - beta[i])**2\n",
        "for i in range(p):\n",
        "    var_hat[i] = sum_var[i] / M + ((M + 1) / (M * (M - 1))) * d[i]\n",
        "cis_d = []\n",
        "# calculate ci for each beta entry\n",
        "for i in range(p):\n",
        "    diff2 = stats.norm.ppf(0.975)*(var_hat[i]**0.5)\n",
        "    cis_d.append((round(beta[i] - diff2, 3), round(beta[i] + diff2, 3)))\n",
        "    print(\"CI for beta_\" + str(i)+ \" is: \", cis_d[i])"
      ],
      "metadata": {
        "colab": {
          "base_uri": "https://localhost:8080/"
        },
        "id": "3sJaYwl2INHn",
        "outputId": "6e26ffb9-099e-42fe-f944-f3d14e00ee54"
      },
      "execution_count": 147,
      "outputs": [
        {
          "output_type": "stream",
          "name": "stdout",
          "text": [
            "CI for beta_0 is:  (-20.226, 145.981)\n",
            "CI for beta_1 is:  (-24.156, 22.56)\n",
            "CI for beta_2 is:  (-0.208, 0.327)\n",
            "CI for beta_3 is:  (-0.358, 2.429)\n"
          ]
        }
      ]
    },
    {
      "cell_type": "code",
      "source": [
        "#Q4.e\n",
        "#Logistic regression with R\n",
        "from sklearn.linear_model import LogisticRegression\n",
        "R = []\n",
        "\n",
        "for i in range(len(df_sort)):\n",
        "    if df_sort['index'][i] in indices_to_remove:\n",
        "        R.append(0)\n",
        "    else:\n",
        "        R.append(1)\n",
        "x_temp = df_sort[['male','totChol', 'age']].to_numpy()\n",
        "x_4 = np.c_[np.ones(n), x_temp]\n",
        "\n",
        "logreg = LogisticRegression(penalty='none', fit_intercept=False, multi_class='ovr')\n",
        "logreg.fit(x_4, R)\n",
        "beta = logreg.coef_[0]\n",
        "\n",
        "print(\"Coefficients are: ['intercept', 'male','totChol', 'age']\")\n",
        "print(\"Estimated beta: \", np.round(beta, decimals=3))"
      ],
      "metadata": {
        "colab": {
          "base_uri": "https://localhost:8080/"
        },
        "id": "VOVK1x61JFVi",
        "outputId": "44c45ec4-f773-4857-9aee-88c8a5ed8721"
      },
      "execution_count": 148,
      "outputs": [
        {
          "output_type": "stream",
          "name": "stdout",
          "text": [
            "Coefficients are: ['intercept', 'male','totChol', 'age']\n",
            "Estimated beta:  [ 1.625  0.073 -0.002 -0.023]\n"
          ]
        }
      ]
    },
    {
      "cell_type": "code",
      "source": [
        "#Q4.f\n",
        "#IPW\n",
        "\n",
        "def pi(n):\n",
        "  return math.exp(n)/(1 + math.exp(n))"
      ],
      "metadata": {
        "id": "S0MtpRZQJ2Tm"
      },
      "execution_count": 149,
      "outputs": []
    },
    {
      "cell_type": "code",
      "source": [
        "n = len(half_df)\n",
        "\n",
        "x_5 = half_df[['male','totChol', 'age']].to_numpy()\n",
        "x_5 = np.c_[np.ones(n), x_5]\n",
        "y_5 = half_df['sysBP'].to_numpy()\n",
        "w = []\n",
        "for i in range(len(half_df)):\n",
        "    w.append(1 / pi(beta @ x_5[i]))\n",
        "\n",
        "W = np.diag(w)\n",
        "beta_ipw = np.linalg.inv(x_5.T @ W @ x_5) @ x_5.T @ W @ y_5\n",
        "\n",
        "print(\"Coefficients are: ['intercept', 'male','totChol', 'age']\")\n",
        "print(\"Estimated beta: \", np.round(beta_ipw, decimals=3))"
      ],
      "metadata": {
        "colab": {
          "base_uri": "https://localhost:8080/"
        },
        "id": "3CbCEKm09WRP",
        "outputId": "69f2131c-c948-4024-a7fa-b22da1261325"
      },
      "execution_count": 150,
      "outputs": [
        {
          "output_type": "stream",
          "name": "stdout",
          "text": [
            "Coefficients are: ['intercept', 'male','totChol', 'age']\n",
            "Estimated beta:  [ 6.489e+01 -1.162e+00  4.900e-02  1.046e+00]\n"
          ]
        }
      ]
    },
    {
      "cell_type": "code",
      "source": [
        "#Q4.g\n",
        "# Bootstrap CI\n",
        "p = len(beta_ipw)\n",
        "B=400\n",
        "sum_boots = np.zeros(p)\n",
        "square_boots = np.zeros(p)\n",
        "\n",
        "#Bootstrap\n",
        "for b in range(B):\n",
        "    boot_df = half_df.sample(n, replace=True).reset_index(inplace=False)\n",
        "    x_temp = boot_df[['male','totChol', 'age']].to_numpy()\n",
        "    x_6 = np.c_[np.ones(n), x_temp]\n",
        "    y_6 = boot_df['sysBP'].to_numpy()\n",
        "    w = []\n",
        "    for i in range(len(boot_df)):\n",
        "        w.append(1 / pi(beta @ x_6[i]))\n",
        "    W = np.diag(w) \n",
        "    beta_boot = np.linalg.inv(x_6.T @ W @ x_6) @ x_6.T @ W @ y_6\n",
        "    for i in range(p):\n",
        "        sum_boots[i] += beta_boot[i]\n",
        "        square_boots[i] += beta_boot[i]**2\n",
        "\n",
        "se_boot = np.zeros(p)\n",
        "for i in range(p):\n",
        "    se_boot[i] = (square_boots[i]/B - (sum_boots[i]/B)**2)**0.5\n",
        "cis_g = []\n",
        "for i in range(p):\n",
        "    diff = stats.norm.ppf(0.975)*se_boot[i]\n",
        "    cis_g.append((round(beta_ipw[i] - diff,3), round(beta_ipw[i] + diff,3)))\n",
        "    print(\"CI for beta_\" + str(i)+ \" is: \", cis_g[i])"
      ],
      "metadata": {
        "colab": {
          "base_uri": "https://localhost:8080/"
        },
        "id": "2M--44TGKg5W",
        "outputId": "16754d06-7f3d-4a8c-c001-bb9ac0ceb588"
      },
      "execution_count": 151,
      "outputs": [
        {
          "output_type": "stream",
          "name": "stdout",
          "text": [
            "CI for beta_0 is:  (52.504, 77.275)\n",
            "CI for beta_1 is:  (-5.028, 2.703)\n",
            "CI for beta_2 is:  (-0.001, 0.099)\n",
            "CI for beta_3 is:  (0.817, 1.274)\n"
          ]
        }
      ]
    },
    {
      "cell_type": "markdown",
      "source": [
        "4.\n",
        "\n",
        "ח1\n",
        "\n",
        "רווחי הסמך די דומים.\n",
        "בסה״כ הבוסטראפ עשה עבודה טובה\n",
        "\n",
        "עבור החותך ועבור ׳מין׳ - בבוטסטראפ ערכי הקצוות של רווח הסמך נמוכים יותר.\n",
        "\n",
        "עבור כל המקדמים רווח הסמך של בוטסטראפ רחב יותר, וזה לא מפתיע שכן הדאטאסט קטן יותר ומוסיפים שגיאת דגימה.\n",
        "\n"
      ],
      "metadata": {
        "id": "C-MIMAlLAYG_"
      }
    },
    {
      "cell_type": "code",
      "source": [
        "#Reminder for Q2\n",
        "# CI for beta_0 is:  [61.91, 80.3]\n",
        "# CI for beta_1 is:  [-2.92, 2.25]\n",
        "# CI for beta_2 is:  [0.03, 0.08]\n",
        "# CI for beta_3 is:  [0.83, 1.14]"
      ],
      "metadata": {
        "id": "Jnnih1jNA5Uv"
      },
      "execution_count": 152,
      "outputs": []
    },
    {
      "cell_type": "code",
      "source": [
        "#Q4.h.2\n",
        "# plot CI\n",
        "\n",
        "coefficients = ['intercept', 'male','totChol', 'age']\n",
        "questions = ['Q2 - Full Data','4a - Drop Missing','4b - Reg. Imputation', '4d - Multiple Imputation', '4g - Bootstrap']\n",
        "for i in range(4):\n",
        "  plt.plot((cis_q2[i][0],cis_q2[i][1]),(0,0),'ro-',color='red')\n",
        "  plt.plot((cis_4a[i][0],cis_4a[i][1]),(1,1),'ro-',color='red')\n",
        "  plt.plot((cis_4b[i][0],cis_4b[i][1]),(2,2),'ro-',color='red')\n",
        "  plt.plot((cis_d[i][0],cis_d[i][1]),(3,3),'ro-',color='red')\n",
        "  plt.plot((cis_g[i][0],cis_g[i][1]),(4,4),'ro-',color='red')\n",
        "  plt.title(coefficients[i])\n",
        "  plt.yticks(range(5),questions)\n",
        "  plt.show()\n",
        "  print()\n",
        "  print()"
      ],
      "metadata": {
        "colab": {
          "base_uri": "https://localhost:8080/",
          "height": 1000
        },
        "id": "9V81pOwqC_0B",
        "outputId": "7545aad3-76ff-4352-de6b-a82b6d649de2"
      },
      "execution_count": 153,
      "outputs": [
        {
          "output_type": "display_data",
          "data": {
            "image/png": "[encoded data removed]",
            "text/plain": [
              "<Figure size 432x288 with 1 Axes>"
            ]
          },
          "metadata": {
            "needs_background": "light"
          }
        },
        {
          "output_type": "stream",
          "name": "stdout",
          "text": [
            "\n",
            "\n"
          ]
        },
        {
          "output_type": "display_data",
          "data": {
            "image/png": "[encoded data removed]",
            "text/plain": [
              "<Figure size 432x288 with 1 Axes>"
            ]
          },
          "metadata": {
            "needs_background": "light"
          }
        },
        {
          "output_type": "stream",
          "name": "stdout",
          "text": [
            "\n",
            "\n"
          ]
        },
        {
          "output_type": "display_data",
          "data": {
            "image/png": "[encoded data removed]",
            "text/plain": [
              "<Figure size 432x288 with 1 Axes>"
            ]
          },
          "metadata": {
            "needs_background": "light"
          }
        },
        {
          "output_type": "stream",
          "name": "stdout",
          "text": [
            "\n",
            "\n"
          ]
        },
        {
          "output_type": "display_data",
          "data": {
            "image/png": "[encoded data removed]",
            "text/plain": [
              "<Figure size 432x288 with 1 Axes>"
            ]
          },
          "metadata": {
            "needs_background": "light"
          }
        },
        {
          "output_type": "stream",
          "name": "stdout",
          "text": [
            "\n",
            "\n"
          ]
        }
      ]
    },
    {
      "cell_type": "markdown",
      "source": [
        "ניתן לראות ש multiple imputation\n",
        "\n",
        "נותן רווח סמך רחב מאוד ביחס לאחרים.\n",
        "\n",
        "כל השיטות האחרות הן בסה״כ די קרובות ודומות."
      ],
      "metadata": {
        "id": "mySDYmRXVxTT"
      }
    },
    {
      "cell_type": "code",
      "source": [
        "%%shell\n",
        "jupyter nbconvert --to html /content/Project_ex5b_316299098_316508126.ipynb"
      ],
      "metadata": {
        "colab": {
          "base_uri": "https://localhost:8080/"
        },
        "id": "7KvExJQWUCv1",
        "outputId": "b54e94e6-bf27-4c65-ceef-c09abf0b942d"
      },
      "execution_count": 156,
      "outputs": [
        {
          "output_type": "stream",
          "name": "stdout",
          "text": [
            "[NbConvertApp] Converting notebook /content/Project_ex5b_316299098_316508126.ipynb to html\n",
            "[NbConvertApp] Writing 382822 bytes to /content/Project_ex5b_316299098_316508126.html\n"
          ]
        },
        {
          "output_type": "execute_result",
          "data": {
            "text/plain": [
              ""
            ]
          },
          "metadata": {},
          "execution_count": 156
        }
      ]
    }
  ]
}