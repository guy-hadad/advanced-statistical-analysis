{
  "nbformat": 4,
  "nbformat_minor": 0,
  "metadata": {
    "colab": {
      "name": "ProjectEx4_316508126_316299098.ipynb",
      "provenance": [],
      "collapsed_sections": []
    },
    "kernelspec": {
      "name": "python3",
      "display_name": "Python 3"
    },
    "language_info": {
      "name": "python"
    }
  },
  "cells": [
    {
      "cell_type": "markdown",
      "metadata": {
        "id": "Vv-K3SxiP7AK"
      },
      "source": [
        "# **פרויקט 4**"
      ]
    },
    {
      "cell_type": "markdown",
      "source": [
        "**חלק א**"
      ],
      "metadata": {
        "id": "MQYerExuhc0S"
      }
    },
    {
      "cell_type": "markdown",
      "source": [
        "**תזכורת לפרויקט הקודם**\n",
        "\n",
        "שאלת המחקר: מהי ההשפעה של הפרמטרים: גיל, מין, עישון על רמת\n",
        "\n",
        "bmi"
      ],
      "metadata": {
        "id": "sFsk6AOdVnWg"
      }
    },
    {
      "cell_type": "code",
      "metadata": {
        "id": "hjsGeIMFQ-Qh"
      },
      "source": [
        "import pandas as pd\n",
        "import numpy as np\n",
        "from matplotlib import pyplot as plt\n",
        "import seaborn as sns\n",
        "from scipy import stats"
      ],
      "execution_count": 26,
      "outputs": []
    },
    {
      "cell_type": "code",
      "metadata": {
        "id": "VCbMsOi3Q8Ta"
      },
      "source": [
        "df_full = pd.read_csv('framingham_heart_disease.csv')"
      ],
      "execution_count": 27,
      "outputs": []
    },
    {
      "cell_type": "code",
      "source": [
        "def sample_rows(df_full, size=200, seed=\"default\"):\n",
        "    if seed==\"default\":\n",
        "      return df_full.sample(n=size)\n",
        "    else:\n",
        "      return df_full.sample(n=size,random_state=seed)"
      ],
      "metadata": {
        "id": "AEBqHq2FWvIG"
      },
      "execution_count": 28,
      "outputs": []
    },
    {
      "cell_type": "code",
      "source": [
        "df = sample_rows(df_full,seed=0)"
      ],
      "metadata": {
        "id": "qs2rus_8Xn9R"
      },
      "execution_count": 29,
      "outputs": []
    },
    {
      "cell_type": "code",
      "source": [
        "df.dropna(how='any', subset=['male','currentSmoker','BMI','age'], inplace=True)\n",
        "#Only one has gone\n",
        "df = df[['age', 'male','currentSmoker','BMI']]\n",
        "x_df = df.iloc[:, :-1] #dataframe of explainers feature\n",
        "y_df = df.iloc[:, -1:] #dataframe of BMI (only 1 col)"
      ],
      "metadata": {
        "id": "hVdGijbpfjRr"
      },
      "execution_count": 30,
      "outputs": []
    },
    {
      "cell_type": "code",
      "source": [
        "from sklearn.linear_model import LinearRegression\n",
        "rows_count = len(df.index)\n",
        "male = np.array(df['male'])\n",
        "age = np.array(df['age'])\n",
        "currentSmoker = np.array(df['currentSmoker'])\n",
        "\n",
        "#create feature matrix X and BMI vector as Y\n",
        "x = [[male[i], age[i], currentSmoker[i]] for i in range(rows_count)]\n",
        "y = np.array(df['BMI'])"
      ],
      "metadata": {
        "id": "HjYAEX1YjGou"
      },
      "execution_count": 31,
      "outputs": []
    },
    {
      "cell_type": "code",
      "source": [
        "def linear_fit(x=\"default\",y=\"default\",df=\"default\", to_print=True):\n",
        "  from sklearn.linear_model import LinearRegression\n",
        "  if x!=\"default\" and y!=\"default\":\n",
        "    model = LinearRegression().fit(x, y)\n",
        "    r_sq = model.score(x, y)\n",
        "    beta = [b for b in model.coef_]\n",
        "    beta = [model.intercept_, *beta]\n",
        "  else:\n",
        "    model = LinearRegression().fit(df.iloc[:, :-1], df.iloc[:, -1:])\n",
        "    r_sq = model.score(df.iloc[:, :-1], df.iloc[:, -1:])\n",
        "    beta = np.hstack((model.intercept_,model.coef_[0]))\n",
        "  if to_print:\n",
        "    print(\"BETA VALUES ARE:\")\n",
        "    print('intercept:', model.intercept_)\n",
        "    print('slope:', model.coef_)\n",
        "\n",
        "  if to_print:\n",
        "    print(beta)\n",
        "  return beta\n"
      ],
      "metadata": {
        "id": "Qp4Pcj02kjeZ"
      },
      "execution_count": 32,
      "outputs": []
    },
    {
      "cell_type": "code",
      "source": [
        "# linear_fit(x,y, to_print=True)\n",
        "beta = linear_fit(df=df, to_print=True)"
      ],
      "metadata": {
        "id": "oxvmCSCIqXbf",
        "colab": {
          "base_uri": "https://localhost:8080/",
          "height": 0
        },
        "outputId": "f355a93d-e7f3-4da1-9946-bbf8bcb71c13"
      },
      "execution_count": 33,
      "outputs": [
        {
          "output_type": "stream",
          "name": "stdout",
          "text": [
            "BETA VALUES ARE:\n",
            "intercept: [22.971323]\n",
            "slope: [[ 0.07366674  0.12178209 -2.09343752]]\n",
            "[22.971323    0.07366674  0.12178209 -2.09343752]\n"
          ]
        }
      ]
    },
    {
      "cell_type": "code",
      "source": [
        "def linear_predictor_y(x,beta):\n",
        "  val = beta[0]\n",
        "  for j in range(len(x)):\n",
        "    val += x[j]*beta[j+1]\n",
        "  return val\n",
        "  "
      ],
      "metadata": {
        "id": "8icTdZxPrNKh"
      },
      "execution_count": 34,
      "outputs": []
    },
    {
      "cell_type": "code",
      "source": [
        "def y_hat_calc(x, beta):\n",
        "  y_hat_list = []\n",
        "  for i in range(len(x)):\n",
        "    y_hat_list.append(linear_predictor_y(x[i], beta))\n",
        "  return y_hat_list\n",
        "\n"
      ],
      "metadata": {
        "id": "F4XqMYABq4G8"
      },
      "execution_count": 35,
      "outputs": []
    },
    {
      "cell_type": "code",
      "source": [
        "def average_val(y_hat):\n",
        "  return sum(y_hat)/len(y_hat)"
      ],
      "metadata": {
        "id": "139EUJYFYzRE"
      },
      "execution_count": 36,
      "outputs": []
    },
    {
      "cell_type": "code",
      "source": [
        "p = len(beta)\n",
        "k = p-1"
      ],
      "metadata": {
        "id": "bkFUB_afZRNJ"
      },
      "execution_count": 37,
      "outputs": []
    },
    {
      "cell_type": "code",
      "source": [
        "def sum_diff_square(vec1, vec2):\n",
        "  result = 0\n",
        "  if type(vec2) == list:\n",
        "    assert len(vec1)==len(vec2)\n",
        "    for i in range(len(vec1)):\n",
        "      result += (vec1[i] - vec2[i])**2\n",
        "  else:\n",
        "    for i in range(len(vec1)):\n",
        "      result += (vec1[i] - vec2)**2\n",
        "  return result"
      ],
      "metadata": {
        "id": "uWz0vFrJb2CC"
      },
      "execution_count": 38,
      "outputs": []
    },
    {
      "cell_type": "code",
      "source": [
        "n = len(y)\n",
        "y_hat = y_hat_calc(x, beta)\n",
        "y_bar = average_val(y_hat)\n",
        "\n",
        "ssr = sum_diff_square(y_hat, y_bar)\n",
        "sse = sum_diff_square(y, y_hat)\n",
        "sst = sum_diff_square(y, y_bar)\n",
        "msr = ssr/k\n",
        "mse = sse/(n-p)\n",
        "var_hat = sst/(n-1)\n",
        "x_nump = np.array(x)"
      ],
      "metadata": {
        "id": "UTOIuLQ8cU9e"
      },
      "execution_count": 39,
      "outputs": []
    },
    {
      "cell_type": "code",
      "source": [
        "def conf_interval_t(estimator, se):\n",
        "  alpha = 0.05\n",
        "  diff = stats.t.ppf(1-alpha,df=n-p) *se\n",
        "  return [estimator - diff, estimator + diff]"
      ],
      "metadata": {
        "id": "flOwDgcddYou"
      },
      "execution_count": 40,
      "outputs": []
    },
    {
      "cell_type": "code",
      "source": [
        "def conf_interval_norm(estimator, se):\n",
        "  alpha = 0.05\n",
        "  diff = stats.norm.ppf(1-alpha) *se\n",
        "  return [estimator - diff, estimator + diff]"
      ],
      "metadata": {
        "id": "SE3POdhjdt3L"
      },
      "execution_count": 41,
      "outputs": []
    },
    {
      "cell_type": "markdown",
      "source": [
        "**Question 1 - a**"
      ],
      "metadata": {
        "id": "hUfdHZj5yCpm"
      }
    },
    {
      "cell_type": "code",
      "source": [
        "x_np = np.array(x)\n",
        "ones_np = np.ones(n)\n",
        "ones_np = np.reshape(ones_np, (n,1))\n",
        "matrix_x = np.concatenate((ones_np,x_np),axis=1)\n",
        "xtx = matrix_x.T@matrix_x\n",
        "sigma_epsilon_square = mse\n",
        "features_names = ['intercept','male', 'age', 'current smoker']\n",
        "\n",
        "c_matrix = np.linalg.inv(matrix_x.T @ matrix_x)\n",
        "\n",
        "P = matrix_x.T@matrix_x\n",
        "C = np.linalg.inv(P)\n",
        "P = np.dot(matrix_x, C) # X(XTX)^-1\n",
        "P = np.dot(P,matrix_x.T) #X(XTX)^-1 XT\n",
        "I = np.identity(P.shape[1])\n",
        "e = np.dot((I-P), y)\n",
        "\n",
        "var_e_hat = sum([val**2 for val in e]) / n\n",
        "\n",
        "std_0 = (C[0][0]*var_e_hat) ** 0.5\n",
        "std_1 = (C[1][1]*var_e_hat) ** 0.5\n",
        "std_2 = (C[2][2]*var_e_hat) ** 0.5\n",
        "std_3 = (C[3][3]*var_e_hat) ** 0.5\n",
        "\n",
        "ci_for200 = []\n",
        "sizes_of_ci_cov = []\n",
        "print(\"CI for Beta with Covariance Matrix calculation\")\n",
        "for i in range(4):\n",
        "  ci_for200.append(conf_interval_norm(beta[i] ,(C[i][i]*var_e_hat) ** 0.5))\n",
        "  print(f\"CI for beta_{i}: {ci_for200[i]}\")\n",
        "  sizes_of_ci_cov.append(ci_for200[i][1]-ci_for200[i][0])\n",
        "\n"
      ],
      "metadata": {
        "colab": {
          "base_uri": "https://localhost:8080/",
          "height": 0
        },
        "id": "X7TM5oRFdA1w",
        "outputId": "c20773bb-a648-4a5f-a07f-20ed8d5cbc0a"
      },
      "execution_count": 42,
      "outputs": [
        {
          "output_type": "stream",
          "name": "stdout",
          "text": [
            "CI for Beta with Covariance Matrix calculation\n",
            "CI for beta_0: [20.278154743597884, 25.664491261842503]\n",
            "CI for beta_1: [-0.8373400876462305, 0.9846735642064375]\n",
            "CI for beta_2: [0.07057838592503132, 0.1729858011039935]\n",
            "CI for beta_3: [-3.0130074238521183, -1.173867607310259]\n"
          ]
        }
      ]
    },
    {
      "cell_type": "markdown",
      "source": [
        "**Question 1 - b**"
      ],
      "metadata": {
        "id": "lof35ecbyLuU"
      }
    },
    {
      "cell_type": "code",
      "source": [
        "def bootstrap(df, B=400, n=199):\n",
        "  all_betas = np.zeros(4)\n",
        "  for b in range(B):\n",
        "    boot_sample = df.sample(n=n, replace=True)\n",
        "    statisty = linear_fit(df=boot_sample, to_print=False)\n",
        "    # print(statisty)\n",
        "    all_betas = np.vstack((all_betas, statisty))\n",
        "  return np.mean(all_betas, axis=0), all_betas"
      ],
      "metadata": {
        "id": "AClI8L8ueMyg"
      },
      "execution_count": 43,
      "outputs": []
    },
    {
      "cell_type": "code",
      "source": [
        "beta, all_beta = bootstrap(df)"
      ],
      "metadata": {
        "id": "TtynkPJuqodo"
      },
      "execution_count": 44,
      "outputs": []
    },
    {
      "cell_type": "code",
      "source": [
        "def variance_of_boots(boots_res):\n",
        "  B = len(boots_res)\n",
        "  sum = np.zeros(4)\n",
        "  sum_sq = np.zeros(4)\n",
        "  for vec in boots_res:\n",
        "    sum += vec\n",
        "    sum_sq += np.square(vec)\n",
        "  variance = (1/B)*sum_sq - ((1/B)*sum)**2\n",
        "  return variance"
      ],
      "metadata": {
        "id": "zP7G2lLCzRYp"
      },
      "execution_count": 45,
      "outputs": []
    },
    {
      "cell_type": "code",
      "source": [
        "var_bootstrap = variance_of_boots(all_beta)\n",
        "var_bootstrap"
      ],
      "metadata": {
        "id": "d8ooHbMNz3dU",
        "colab": {
          "base_uri": "https://localhost:8080/",
          "height": 0
        },
        "outputId": "c4875f3c-5446-47e5-8109-4115ea9a45c7"
      },
      "execution_count": 46,
      "outputs": [
        {
          "output_type": "execute_result",
          "data": {
            "text/plain": [
              "array([4.25055741e+00, 1.08641030e-03, 3.26019548e-01, 3.07193739e-01])"
            ]
          },
          "metadata": {},
          "execution_count": 46
        }
      ]
    },
    {
      "cell_type": "code",
      "source": [
        "sizes_of_ci_boots = []\n",
        "print(\"CI for Beta with Bootstrap s.e estimator\")\n",
        "for i in range(4):\n",
        "  up = beta[i]+var_bootstrap[i]**0.5\n",
        "  low = beta[i]-var_bootstrap[i]**0.5\n",
        "  print(f\"CI for beta_{i}: {low}, {up}\")\n",
        "  sizes_of_ci_boots.append(up-low)\n"
      ],
      "metadata": {
        "id": "jfAJZV0x1BV0",
        "colab": {
          "base_uri": "https://localhost:8080/",
          "height": 0
        },
        "outputId": "96c7d04e-e07b-474c-e017-48b64cf77268"
      },
      "execution_count": 47,
      "outputs": [
        {
          "output_type": "stream",
          "name": "stdout",
          "text": [
            "CI for Beta with Bootstrap s.e estimator\n",
            "CI for beta_0: 20.84237437100587, 24.96575036986093\n",
            "CI for beta_1: 0.04048846828455822, 0.10640994574305218\n",
            "CI for beta_2: -0.4215956994067309, 0.7203667307406094\n",
            "CI for beta_3: -2.6640407420157977, -1.5555395218104118\n"
          ]
        }
      ]
    },
    {
      "cell_type": "markdown",
      "source": [
        "**Question 1 - c**"
      ],
      "metadata": {
        "id": "JOx8Vn7ByOan"
      }
    },
    {
      "cell_type": "code",
      "source": [
        "alpha = 0.05\n",
        "B=400\n",
        "sizes_of_ci_pivot = []\n",
        "bootstrap_pivot_cis =[]\n",
        "print(\"CI for Beta with PIVOT\")\n",
        "\n",
        "for i in range(p):\n",
        "    values = all_beta[:,i]\n",
        "    values.sort()\n",
        "    first_quantile = values[int(B*(1-alpha/2))]\n",
        "    second_quantile = values[int(B*alpha/2)]\n",
        "    up = round(beta[i]-second_quantile/(n**0.5),3)\n",
        "    low = round(beta[i]- first_quantile/(n**0.5),3)\n",
        "    ci = [low, up]\n",
        "    sizes_of_ci_pivot.append(up-low)\n",
        "    bootstrap_pivot_cis.append(ci)\n",
        "    print(f\"CI for beta_{i}: \", ci)"
      ],
      "metadata": {
        "colab": {
          "base_uri": "https://localhost:8080/",
          "height": 0
        },
        "id": "-a5rt3aYxP7l",
        "outputId": "4348c156-a516-46c1-9eba-6377a99f7426"
      },
      "execution_count": 48,
      "outputs": [
        {
          "output_type": "stream",
          "name": "stdout",
          "text": [
            "CI for Beta with PIVOT\n",
            "CI for beta_0:  [21.029, 21.519]\n",
            "CI for beta_1:  [0.064, 0.073]\n",
            "CI for beta_2:  [0.053, 0.222]\n",
            "CI for beta_3:  [-2.042, -1.887]\n"
          ]
        }
      ]
    },
    {
      "cell_type": "markdown",
      "source": [
        "**question 2**"
      ],
      "metadata": {
        "id": "IMT4HXnb1a-Z"
      }
    },
    {
      "cell_type": "code",
      "source": [
        "bootstrap_quantiles_cis =[]\n",
        "sizes_of_ci_percent = []\n",
        "\n",
        "print(\"CI for Beta with PERCENTAGES\")\n",
        "\n",
        "for i in range(p):\n",
        "    values = all_beta[:,i]\n",
        "    values.sort()\n",
        "    first_quantile = values[int(B*alpha/2)]\n",
        "    second_quantile =  values[int(B*(1-alpha/2))]\n",
        "    up = round(second_quantile,3)\n",
        "    low = round(first_quantile,3)\n",
        "    ci =[low, up]\n",
        "    bootstrap_quantiles_cis.append(ci)\n",
        "    sizes_of_ci_percent.append(up-low)\n",
        "    print(f\"CI for beta_{i}: \", ci)"
      ],
      "metadata": {
        "colab": {
          "base_uri": "https://localhost:8080/",
          "height": 0
        },
        "id": "18x5rZWb1_sq",
        "outputId": "03f8605a-704e-4147-981c-6398c90c43a5"
      },
      "execution_count": 49,
      "outputs": [
        {
          "output_type": "stream",
          "name": "stdout",
          "text": [
            "CI for Beta with PERCENTAGES\n",
            "CI for beta_0:  [19.542, 26.444]\n",
            "CI for beta_1:  [0.01, 0.138]\n",
            "CI for beta_2:  [-1.028, 1.36]\n",
            "CI for beta_3:  [-3.143, -0.956]\n"
          ]
        }
      ]
    },
    {
      "cell_type": "code",
      "source": [
        "df_full.dropna(how='any', subset=['male','currentSmoker','BMI','age'], inplace=True)\n",
        "\n",
        "from sklearn.linear_model import LinearRegression\n",
        "rows_count = len(df_full.index)\n",
        "male = np.array(df_full['male'])\n",
        "age = np.array(df_full['age'])\n",
        "currentSmoker = np.array(df_full['currentSmoker'])\n",
        "\n",
        "#create feature matrix X and BMI vector as Y\n",
        "x = [[male[i], age[i], currentSmoker[i]] for i in range(rows_count)]\n",
        "y = np.array(df_full['BMI'])"
      ],
      "metadata": {
        "id": "XedMZNqE2wtK"
      },
      "execution_count": 50,
      "outputs": []
    },
    {
      "cell_type": "code",
      "source": [
        "print(\"REAL VALUES OF Beta\")\n",
        "beta = linear_fit(x=x,y=y, to_print=True)"
      ],
      "metadata": {
        "colab": {
          "base_uri": "https://localhost:8080/",
          "height": 0
        },
        "id": "iKhtNFNR29tr",
        "outputId": "578cee08-fce5-48c8-c00e-9cc77c6b9bb1"
      },
      "execution_count": 51,
      "outputs": [
        {
          "output_type": "stream",
          "name": "stdout",
          "text": [
            "REAL VALUES OF Beta\n",
            "BETA VALUES ARE:\n",
            "intercept: 23.632049602136647\n",
            "slope: [ 0.97021387  0.04907851 -1.3752637 ]\n",
            "[23.632049602136647, 0.9702138659731474, 0.049078505047878695, -1.3752636991394886]\n"
          ]
        },
        {
          "output_type": "stream",
          "name": "stderr",
          "text": [
            "/usr/local/lib/python3.7/dist-packages/ipykernel_launcher.py:3: FutureWarning: elementwise comparison failed; returning scalar instead, but in the future will perform elementwise comparison\n",
            "  This is separate from the ipykernel package so we can avoid doing imports until\n"
          ]
        }
      ]
    },
    {
      "cell_type": "code",
      "source": [
        "print(\"sizes of CI for each method:\")\n",
        "print(\"Cov Matrix:\", sizes_of_ci_cov)\n",
        "print(\"Bootstrap :\", sizes_of_ci_boots)\n",
        "print(\"PIVOT.    :\", sizes_of_ci_pivot)\n",
        "print(\"PERCENTILE:\", sizes_of_ci_percent)\n",
        "\n",
        "print()\n",
        "print()\n",
        "print(\"PERCENTS OF HITS in the CI\")\n",
        "print(\"Cov Matrix: 3/4\")\n",
        "print(\"Bootstrap : 3/4\")\n",
        "print(\"PIVOT.    : 1/3\")\n",
        "print(\"PERCENTILE: 2/4\")"
      ],
      "metadata": {
        "colab": {
          "base_uri": "https://localhost:8080/",
          "height": 0
        },
        "id": "19XERbK55G7U",
        "outputId": "18f2f7f2-9465-4118-bb01-86efa9eb315d"
      },
      "execution_count": 52,
      "outputs": [
        {
          "output_type": "stream",
          "name": "stdout",
          "text": [
            "sizes of CI for each method:\n",
            "Cov Matrix: [5.386336518244619, 1.822013651852668, 0.10240741517896218, 1.8391398165418593]\n",
            "Bootstrap : [4.12337599885506, 0.06592147745849397, 1.1419624301473403, 1.1085012202053859]\n",
            "PIVOT.    : [0.48999999999999844, 0.008999999999999994, 0.169, 0.1549999999999998]\n",
            "PERCENTILE: [6.9019999999999975, 0.128, 2.388, 2.187]\n",
            "\n",
            "\n",
            "PERCENTS OF HITS in the CI\n",
            "Cov Matrix: 3/4\n",
            "Bootstrap : 3/4\n",
            "PIVOT.    : 1/3\n",
            "PERCENTILE: 2/4\n"
          ]
        }
      ]
    },
    {
      "cell_type": "markdown",
      "source": [
        "**question 3**"
      ],
      "metadata": {
        "id": "kMygDMpHWUI9"
      }
    },
    {
      "cell_type": "code",
      "source": [
        "duplicate_df = df_full.copy() #4219\n",
        "# print(duplicate_df)\n",
        "for index_to_delete in df.index:\n",
        "  duplicate_df.drop(index_to_delete, inplace=True)\n",
        "\n",
        "df_new = sample_rows(duplicate_df, size=100, seed=0)\n",
        "df_new.dropna(how='any', subset=['male','currentSmoker','BMI','age'], inplace=True)"
      ],
      "metadata": {
        "id": "3krFXSccWXPu"
      },
      "execution_count": 53,
      "outputs": []
    },
    {
      "cell_type": "code",
      "source": [
        "df_new = df_new[['age', 'male','currentSmoker','BMI']]\n",
        "x_df_new = df_new.iloc[:, :-1] #dataframe of explainers feature\n",
        "y_df_new = df_new.iloc[:, -1:] #dataframe of BMI (only 1 col)\n",
        "rows_count_new = len(df_new.index)\n",
        "male_new = np.array(df_new['male'])\n",
        "age_new = np.array(df_new['age'])\n",
        "currentSmoker_new = np.array(df_new['currentSmoker'])\n",
        "\n",
        "#create feature matrix X and BMI vector as Y\n",
        "x_new = [[male_new[i], age_new[i], currentSmoker_new[i]] for i in range(rows_count_new)]\n",
        "y_new = np.array(df_new['BMI'])"
      ],
      "metadata": {
        "id": "Nj-mPjXEXmsN"
      },
      "execution_count": 54,
      "outputs": []
    },
    {
      "cell_type": "code",
      "source": [
        "#predictions:\n",
        "y_hat = []\n",
        "for i in range(len(x_new)):\n",
        "  y_hat.append(beta[0]+beta[1]*x_new[i][0] + beta[2]*x_new[i][1] + beta[3]*x_new[i][2])"
      ],
      "metadata": {
        "id": "19Zs7AuuX_54"
      },
      "execution_count": 55,
      "outputs": []
    },
    {
      "cell_type": "markdown",
      "source": [
        "**question C 2**"
      ],
      "metadata": {
        "id": "FLGUY-vSa3XO"
      }
    },
    {
      "cell_type": "code",
      "source": [
        "boots =[]\n",
        "B_sample_size = 198\n",
        "for i in range(B):\n",
        "    duplicate_df1 = df_full.copy()\n",
        "    for index_to_delete in df.index:\n",
        "      duplicate_df1.drop(index_to_delete, inplace=True)\n",
        "    df_new1 = sample_rows(duplicate_df1, size=B_sample_size)\n",
        "    df_new1.dropna(how='any', subset=['male','currentSmoker','BMI','age'], inplace=True)\n",
        "    \n",
        "    new_x1 = df_new1[['age', 'male','currentSmoker']].to_numpy()\n",
        "    new_x1 = np.c_[np.ones(B_sample_size), new_x1]\n",
        "    new_y1 = df_new1['BMI'].to_numpy()\n",
        "    boot_b_hat = np.linalg.inv((new_x1.T.dot(new_x1))).dot(new_x1.T).dot(new_y1)\n",
        "    boots.append(boot_b_hat)"
      ],
      "metadata": {
        "id": "oiAQDjGRa815"
      },
      "execution_count": 56,
      "outputs": []
    },
    {
      "cell_type": "code",
      "source": [
        "counter = 0\n",
        "cis =[]\n",
        "alpha = 0.05\n",
        "for i in range(len(x_new)):\n",
        "    boot_expectations = []\n",
        "    for b in boots:\n",
        "        boot_expectations.append(b[0] + b[1]*x_new[i][0] + b[2]*x_new[i][1] + b[3]*x_new[i][2])\n",
        "    # calculating CI's according to the quntiles method\n",
        "    boot_expectations.sort()\n",
        "    ci = [round(boot_expectations[int(B*alpha/2)],3), round(boot_expectations[int(B*(1-alpha/2))],3)]\n",
        "    cis.append((y_hat[i], ci))\n",
        "\n",
        "    #Q3.c\n",
        "    if ci[0]<=y_new[i]<=ci[1]:\n",
        "        counter +=1"
      ],
      "metadata": {
        "id": "9HkwZ0ZzcV9y"
      },
      "execution_count": 57,
      "outputs": []
    },
    {
      "cell_type": "code",
      "source": [
        "print(\"top 30 examples for results questions a,b:\")\n",
        "for i in range(30):\n",
        "    print(\"predicted BMI values: \", cis[i][0],  \"CI using quantiles bootstrap: \", cis[i][1])\n",
        "print()\n",
        "print()\n",
        "print(\"precentage of appearance in CI is: \" , counter , '%')"
      ],
      "metadata": {
        "colab": {
          "base_uri": "https://localhost:8080/",
          "height": 0
        },
        "id": "lO_0D5vsecBH",
        "outputId": "5ebfeef0-f435-4ab1-ad1a-e1e7e6b5cf72"
      },
      "execution_count": 58,
      "outputs": [
        {
          "output_type": "stream",
          "name": "stdout",
          "text": [
            "top 30 examples for results questions a,b:\n",
            "predicted BMI values:  26.184131864626337 CI using quantiles bootstrap:  [20.94, 134.138]\n",
            "predicted BMI values:  25.042904455741816 CI using quantiles bootstrap:  [21.177, 101.35]\n",
            "predicted BMI values:  25.25057471091776 CI using quantiles bootstrap:  [20.063, 152.042]\n",
            "predicted BMI values:  25.300718773764522 CI using quantiles bootstrap:  [22.081, 96.694]\n",
            "predicted BMI values:  25.141061465837574 CI using quantiles bootstrap:  [21.05, 105.577]\n",
            "predicted BMI values:  24.219926104912307 CI using quantiles bootstrap:  [20.942, 107.66]\n",
            "predicted BMI values:  24.563475640247457 CI using quantiles bootstrap:  [20.499, 122.454]\n",
            "predicted BMI values:  24.80886816548685 CI using quantiles bootstrap:  [20.207, 133.021]\n",
            "predicted BMI values:  24.4653186301517 CI using quantiles bootstrap:  [20.625, 118.227]\n",
            "predicted BMI values:  25.38645399107697 CI using quantiles bootstrap:  [20.733, 116.144]\n",
            "predicted BMI values:  25.103339195774122 CI using quantiles bootstrap:  [20.111, 145.702]\n",
            "predicted BMI values:  24.12176909481655 CI using quantiles bootstrap:  [21.069, 103.433]\n",
            "predicted BMI values:  25.987817844434822 CI using quantiles bootstrap:  [21.194, 125.817]\n",
            "predicted BMI values:  26.282288874722095 CI using quantiles bootstrap:  [20.813, 138.299]\n",
            "predicted BMI values:  26.62583841005725 CI using quantiles bootstrap:  [20.584, 152.861]\n",
            "predicted BMI values:  24.661632650343215 CI using quantiles bootstrap:  [20.372, 126.681]\n",
            "predicted BMI values:  25.141061465837574 CI using quantiles bootstrap:  [21.05, 105.577]\n",
            "predicted BMI values:  25.987817844434822 CI using quantiles bootstrap:  [21.194, 125.817]\n",
            "predicted BMI values:  25.582768011268485 CI using quantiles bootstrap:  [20.48, 124.598]\n",
            "predicted BMI values:  25.054260690726245 CI using quantiles bootstrap:  [20.127, 143.588]\n",
            "predicted BMI values:  25.495967236157153 CI using quantiles bootstrap:  [19.983, 162.609]\n",
            "predicted BMI values:  24.416240125103823 CI using quantiles bootstrap:  [20.689, 116.114]\n",
            "predicted BMI values:  27.596052276030395 CI using quantiles bootstrap:  [20.668, 152.863]\n",
            "predicted BMI values:  25.38645399107697 CI using quantiles bootstrap:  [20.733, 116.144]\n",
            "predicted BMI values:  26.085974854530583 CI using quantiles bootstrap:  [21.067, 129.978]\n",
            "predicted BMI values:  25.779082031459996 CI using quantiles bootstrap:  [20.29, 133.052]\n",
            "predicted BMI values:  25.582768011268485 CI using quantiles bootstrap:  [20.48, 124.598]\n",
            "predicted BMI values:  24.219926104912307 CI using quantiles bootstrap:  [20.942, 107.66]\n",
            "predicted BMI values:  26.958031710407973 CI using quantiles bootstrap:  [21.239, 125.82]\n",
            "predicted BMI values:  24.367161620055942 CI using quantiles bootstrap:  [20.752, 114.0]\n",
            "\n",
            "\n",
            "precentage of appearance in CI is:  91 %\n"
          ]
        }
      ]
    },
    {
      "cell_type": "markdown",
      "source": [
        "התוצאה קרובה ל 95% ! :)\n"
      ],
      "metadata": {
        "id": "WgZzuXeCpeao"
      }
    },
    {
      "cell_type": "markdown",
      "source": [
        "**question D**"
      ],
      "metadata": {
        "id": "_McuRd9hpR9-"
      }
    },
    {
      "cell_type": "markdown",
      "source": [
        "יהיה צריך להתייחס לרעש ולכן להרחיב את רווח הסמך.\n",
        "כמה להרחיב את רווח הסמך? נלמד במהלך הבוטסטראפ את האומד לשונות הרעש ונוסיף את השונות הזו לשונות של האומד וכך נרחיב את ר״ס\n"
      ],
      "metadata": {
        "id": "HwJ4iNYDo8PW"
      }
    },
    {
      "cell_type": "markdown",
      "source": [
        "+++++++++++++++++++++++++++++++++++++++++++++++++++++++++++++++++++++"
      ],
      "metadata": {
        "id": "xqLXNYrthPMn"
      }
    },
    {
      "cell_type": "markdown",
      "source": [
        "**חלק ב**"
      ],
      "metadata": {
        "id": "ckxhKNSS07dF"
      }
    },
    {
      "cell_type": "markdown",
      "source": [
        "שאלה 1\n",
        "\n",
        "שאלת המחקר: האם התפלגות רמת הגלוקוז גדולה בקרב מעשנים ללא מעשנים\n",
        "\n",
        "השערת האפס: ההתפלגות שווה\n",
        "\n",
        "השערת המבחן: ההתפלגות בקרב הלא מעשנים גבוהה יותר"
      ],
      "metadata": {
        "id": "Y0CdNULr09Mm"
      }
    },
    {
      "cell_type": "markdown",
      "source": [
        "שאלה **2**"
      ],
      "metadata": {
        "id": "cNY5b0G91Bwh"
      }
    },
    {
      "cell_type": "code",
      "execution_count": 59,
      "metadata": {
        "id": "4SrXZWpk0tyw"
      },
      "outputs": [],
      "source": [
        "import pandas as pd\n",
        "import numpy as np\n",
        "from matplotlib import pyplot as plt\n",
        "import seaborn as sns\n",
        "from scipy import stats"
      ]
    },
    {
      "cell_type": "code",
      "source": [
        "df = pd.read_csv(\"framingham_heart_disease.csv\")\n",
        "np.random.seed(3)\n",
        "df_sample = df.sample(200)"
      ],
      "metadata": {
        "id": "oqgWAgVn1lvE"
      },
      "execution_count": 60,
      "outputs": []
    },
    {
      "cell_type": "markdown",
      "source": [
        "שאלה 3 א"
      ],
      "metadata": {
        "id": "DSN1j36h2gbf"
      }
    },
    {
      "cell_type": "code",
      "source": [
        "df_sample.dropna(how='any', subset=['currentSmoker','glucose'], inplace=True)\n",
        "df_sample = df_sample[['currentSmoker','glucose']]\n",
        "\n",
        "\n",
        "sample_smoke = df_sample[df_sample[\"currentSmoker\"]==1]\n",
        "sample_not = df_sample[df_sample[\"currentSmoker\"]==0]\n",
        "\n",
        "\n",
        "mu_1 = sample_smoke['glucose'].mean()\n",
        "mu_2 = sample_not['glucose'].mean()\n",
        "delta = mu_1-mu_2\n",
        "print(\"mean glucose for smokers is: \", mu_1)\n",
        "print(\"mean glucose for non - smokers is: \",mu_2)\n",
        "print(\"delta is: \",delta)"
      ],
      "metadata": {
        "colab": {
          "base_uri": "https://localhost:8080/",
          "height": 0
        },
        "id": "FRUGX_0L0zPM",
        "outputId": "201a36b4-10e5-444c-8e54-8751dae4478e"
      },
      "execution_count": 61,
      "outputs": [
        {
          "output_type": "stream",
          "name": "stdout",
          "text": [
            "mean glucose for smokers is:  81.79381443298969\n",
            "mean glucose for non - smokers is:  83.8\n",
            "delta is:  -2.0061855670103057\n"
          ]
        }
      ]
    },
    {
      "cell_type": "markdown",
      "source": [
        "μ smoke = 81.79,\n",
        "\n",
        "μ non-smoke = 83.8,  \n",
        "         \n",
        "δ = -2.00\n",
        "\n",
        "האומדים שקיבלנו הם אומדי נראות מרבית בגלל שלמדנו שממוצע הוא אומד נראות מרבית לתוחלת ולפי מה שראינו גם הפרשי ממוצעים הם אנ\"מ לפי מה שראינו בפרויקט חלק 2. "
      ],
      "metadata": {
        "id": "2d-2aI854Uvl"
      }
    },
    {
      "cell_type": "markdown",
      "source": [
        "3 ב"
      ],
      "metadata": {
        "id": "OhADRAVy5-S0"
      }
    },
    {
      "cell_type": "code",
      "source": [
        "n_smoke = len(sample_smoke['glucose'])\n",
        "n_non_smoke = len(sample_not['glucose'])\n",
        "se_smoke = np.std(sample_smoke['glucose'])\n",
        "se_non_smoke = np.std(sample_not['glucose'])\n",
        "u = stats.norm.ppf(0.975)*((se_smoke**2/n_smoke + se_non_smoke**2/n_non_smoke))**0.5\n",
        "ci = [delta - u , delta+u,]\n",
        "print(\"The CI for delta with confidence level of 0.95 is: \", ci)"
      ],
      "metadata": {
        "colab": {
          "base_uri": "https://localhost:8080/",
          "height": 0
        },
        "id": "NsCDiH8G6CVX",
        "outputId": "009e9a21-41a6-4934-e9e0-7101689706bb"
      },
      "execution_count": 62,
      "outputs": [
        {
          "output_type": "stream",
          "name": "stdout",
          "text": [
            "The CI for delta with confidence level of 0.95 is:  [-10.526340659492382, 6.51396952547177]\n"
          ]
        }
      ]
    },
    {
      "cell_type": "markdown",
      "source": [
        "3 ג"
      ],
      "metadata": {
        "id": "9pp3SqikB7mO"
      }
    },
    {
      "cell_type": "code",
      "source": [
        "mu_smokers = df[df['currentSmoker']==1]['glucose'].mean()\n",
        "mu_non = df[df['currentSmoker']==0]['glucose'].mean()\n",
        "delta_all = mu_smokers - mu_non\n",
        "print(\"delta based on the entire data is: \" ,delta_all)"
      ],
      "metadata": {
        "colab": {
          "base_uri": "https://localhost:8080/",
          "height": 0
        },
        "id": "I3_4-C6XB9tH",
        "outputId": "bbcb5f0e-170c-4eee-f616-fc0e79221791"
      },
      "execution_count": 63,
      "outputs": [
        {
          "output_type": "stream",
          "name": "stdout",
          "text": [
            "delta based on the entire data is:  -2.723234896252464\n"
          ]
        }
      ]
    },
    {
      "cell_type": "markdown",
      "source": [
        "הפרמטר נמצא בתוך הרווח סמך "
      ],
      "metadata": {
        "id": "f23WpLMsEEnA"
      }
    },
    {
      "cell_type": "markdown",
      "source": [
        "3 ד"
      ],
      "metadata": {
        "id": "VkCTwdCOELS8"
      }
    },
    {
      "cell_type": "code",
      "source": [
        "B_sample_size =198 #we want to be as close as possible to 200 and still have enough samples.\n",
        "B=400\n",
        "delta_bootstrap =[]\n",
        "\n",
        "\n",
        "for i in range(B):\n",
        "    new_samp = df_sample.sample(B_sample_size, replace= True)\n",
        "    new_smoke = new_samp[new_samp['currentSmoker']==1]\n",
        "    new_non = new_samp[new_samp['currentSmoker']==0]\n",
        "    new_mu_s = new_smoke['glucose'].mean()\n",
        "    new_mu_n = new_non['glucose'].mean()\n",
        "    delta_bootstrap.append(new_mu_s - new_mu_n)\n",
        "\n",
        "\n",
        "    \n",
        "counter = 0\n",
        "for i in range(len(delta_bootstrap)):\n",
        "    if delta_bootstrap[i]>= delta:\n",
        "        counter+=1\n",
        "\n",
        "p_val = counter/B\n",
        "print(\"Estimated pvalue is: \", p_val)\n",
        "print(\"according to permutations test:\")\n",
        "if p_val < 0.05:\n",
        "    print(\"reject null hypothesis\")\n",
        "else:\n",
        "    print(\"accept null hypothesis\")"
      ],
      "metadata": {
        "id": "EH9qQ-i2EO6z",
        "colab": {
          "base_uri": "https://localhost:8080/",
          "height": 0
        },
        "outputId": "21fb277d-d415-4513-95b6-5438f7131d25"
      },
      "execution_count": 64,
      "outputs": [
        {
          "output_type": "stream",
          "name": "stdout",
          "text": [
            "Estimated pvalue is:  0.5\n",
            "according to permutations test:\n",
            "accept null hypothesis\n"
          ]
        }
      ]
    },
    {
      "cell_type": "code",
      "source": [
        "#wald\n",
        "w = abs(delta)/((se_smoke**2/n_smoke + se_non_smoke**2/n_non_smoke))**0.5\n",
        "if w > stats.norm.ppf(0.95):\n",
        "    print(\"Reject null hypothesis\")\n",
        "else:\n",
        "    print(\"Accept null hypothesis\")"
      ],
      "metadata": {
        "colab": {
          "base_uri": "https://localhost:8080/",
          "height": 0
        },
        "id": "054EQ1nlLeH4",
        "outputId": "a0ee9881-8e25-4208-a15e-6f1034e2bc41"
      },
      "execution_count": 65,
      "outputs": [
        {
          "output_type": "stream",
          "name": "stdout",
          "text": [
            "Accept null hypothesis\n"
          ]
        }
      ]
    },
    {
      "cell_type": "markdown",
      "source": [
        "השתמשנו בבוטסטרפ כדי לעשות מבחן פרמוטציות בצורה יעילה יותר. בשני המבחנים קיבלנו שנקבל את השערת האפס."
      ],
      "metadata": {
        "id": "fSArtmjFOnID"
      }
    },
    {
      "cell_type": "markdown",
      "source": [
        "4 א"
      ],
      "metadata": {
        "id": "Y3RkR-fPO6Qn"
      }
    },
    {
      "cell_type": "code",
      "source": [
        "me_1 = sample_smoke['glucose'].median()\n",
        "me_2 = sample_not['glucose'].median()\n",
        "delta = me_1-me_2\n",
        "\n",
        "print(\"median of smokers's glucose estimator is: \", me_1 ,\" and non smokers's glucose estimator is: \",me_2)\n",
        "print(\"delta estimator is: \", delta)"
      ],
      "metadata": {
        "colab": {
          "base_uri": "https://localhost:8080/",
          "height": 0
        },
        "id": "VlWozmZYPAJU",
        "outputId": "72e2417b-dba5-4964-f42f-0fb122526730"
      },
      "execution_count": 66,
      "outputs": [
        {
          "output_type": "stream",
          "name": "stdout",
          "text": [
            "median of smokers's glucose estimator is:  79.0  and non smokers's glucose estimator is:  77.0\n",
            "delta estimator is:  2.0\n"
          ]
        }
      ]
    },
    {
      "cell_type": "markdown",
      "source": [
        "החציון הוא לא בהכרח האנ\"מ. אם הוא היה סימטרי לממוצע ומתפלג נורמלית אז היינו יכולים להגיד שהוא גם אנ\"מ אך כמו שניתן לראות למטה בהיסטוגרמות התפלגות ההערכים היא לא נורמלית"
      ],
      "metadata": {
        "id": "21ylOiaVP9hR"
      }
    },
    {
      "cell_type": "markdown",
      "source": [
        "4 ב"
      ],
      "metadata": {
        "id": "WaRTm-cN3L0S"
      }
    },
    {
      "cell_type": "code",
      "source": [
        "ci = [delta - u , delta+u]\n",
        "print(\"The CI for delta with confidence level of 0.95 is: \", ci)"
      ],
      "metadata": {
        "colab": {
          "base_uri": "https://localhost:8080/",
          "height": 0
        },
        "id": "kA47AS-13O5H",
        "outputId": "c1b0de6a-e31c-4114-d6f9-bf9370a95a93"
      },
      "execution_count": 67,
      "outputs": [
        {
          "output_type": "stream",
          "name": "stdout",
          "text": [
            "The CI for delta with confidence level of 0.95 is:  [-6.520155092482076, 10.520155092482076]\n"
          ]
        }
      ]
    },
    {
      "cell_type": "markdown",
      "source": [
        "4ג "
      ],
      "metadata": {
        "id": "muSZxLSV6jli"
      }
    },
    {
      "cell_type": "code",
      "source": [
        "me_smokers = df[df['currentSmoker']==1]['glucose'].median()\n",
        "me_non = df[df['currentSmoker']==0]['glucose'].median()\n",
        "delta_all = me_smokers - me_non\n",
        "print(\"delta based on the entire data is: \" ,delta_all)"
      ],
      "metadata": {
        "colab": {
          "base_uri": "https://localhost:8080/",
          "height": 0
        },
        "id": "rOdYZD9A6Qsm",
        "outputId": "4166c847-465c-4aee-a00c-0346c6cf44a7"
      },
      "execution_count": 68,
      "outputs": [
        {
          "output_type": "stream",
          "name": "stdout",
          "text": [
            "delta based on the entire data is:  -2.0\n"
          ]
        }
      ]
    },
    {
      "cell_type": "markdown",
      "source": [
        "4 ד"
      ],
      "metadata": {
        "id": "ZJhoxIHa64EQ"
      }
    },
    {
      "cell_type": "code",
      "source": [
        "delta_bootstrap_median =[]\n",
        "\n",
        "for i in range(B):\n",
        "    new_samp = df_sample.sample(B_sample_size, replace= True)\n",
        "    new_smoke = new_samp[new_samp['currentSmoker']==1]\n",
        "    new_non = new_samp[new_samp['currentSmoker']==0]\n",
        "    new_med_s = new_smoke['glucose'].median()\n",
        "    new_med_n = new_non['glucose'].median() \n",
        "    delta_bootstrap_median.append(new_mu_s-new_med_n)\n",
        "\n",
        "counter = 0\n",
        "for i in range(len(delta_bootstrap_median)):\n",
        "    if delta_bootstrap_median[i]>= delta:\n",
        "        counter+=1\n",
        "\n",
        "\n",
        "p_val = counter/B\n",
        "print(\"Estimated pvalue is: \", p_val)\n",
        "print(\"according to permutations test:\")\n",
        "if p_val < 0.05:\n",
        "    print(\"reject null hypothesis\")\n",
        "else:\n",
        "    print(\"accept null hypothesis\")\n"
      ],
      "metadata": {
        "colab": {
          "base_uri": "https://localhost:8080/",
          "height": 0
        },
        "id": "0Kwotud665xL",
        "outputId": "3d6cdb92-e8c3-4b1f-d8f2-10048530060f"
      },
      "execution_count": 69,
      "outputs": [
        {
          "output_type": "stream",
          "name": "stdout",
          "text": [
            "Estimated pvalue is:  0.9975\n",
            "according to permutations test:\n",
            "accept null hypothesis\n"
          ]
        }
      ]
    },
    {
      "cell_type": "code",
      "source": [
        "new_smoke['glucose'].hist()\n",
        "\n"
      ],
      "metadata": {
        "colab": {
          "base_uri": "https://localhost:8080/",
          "height": 283
        },
        "id": "gLEkoXBj81ws",
        "outputId": "7bbe3b68-5ee2-415d-dcf3-b171587b0e06"
      },
      "execution_count": 70,
      "outputs": [
        {
          "output_type": "execute_result",
          "data": {
            "text/plain": [
              "<matplotlib.axes._subplots.AxesSubplot at 0x7f6c920b33d0>"
            ]
          },
          "metadata": {},
          "execution_count": 70
        },
        {
          "output_type": "display_data",
          "data": {
            "image/png": "[encoded data removed]",
            "text/plain": [
              "<Figure size 432x288 with 1 Axes>"
            ]
          },
          "metadata": {
            "needs_background": "light"
          }
        }
      ]
    },
    {
      "cell_type": "code",
      "source": [
        "new_non['glucose'].hist()\n"
      ],
      "metadata": {
        "colab": {
          "base_uri": "https://localhost:8080/",
          "height": 285
        },
        "id": "LynOWEobfgVt",
        "outputId": "18dc9b68-5e3c-4653-b27c-bc7f8bf9a7ec"
      },
      "execution_count": 71,
      "outputs": [
        {
          "output_type": "execute_result",
          "data": {
            "text/plain": [
              "<matplotlib.axes._subplots.AxesSubplot at 0x7f6c9202f410>"
            ]
          },
          "metadata": {},
          "execution_count": 71
        },
        {
          "output_type": "display_data",
          "data": {
            "image/png": "[encoded data removed]",
            "text/plain": [
              "<Figure size 432x288 with 1 Axes>"
            ]
          },
          "metadata": {
            "needs_background": "light"
          }
        }
      ]
    },
    {
      "cell_type": "markdown",
      "source": [
        "4 ה\n",
        "\n",
        "\n",
        "ניתן להשתמש במבחן וולד כי מתקיימים ראינו בהרצאה 3 שמתקיימים התנאים במקרה (אסימפטוטי נורמלי )של הפרש חציונים.\n",
        "\n",
        "\n",
        "אך במבחן t אי אפשר להשתמש כי הנתונים לא מתפלגים נורמלית"
      ],
      "metadata": {
        "id": "pE2c3kXF8Sd1"
      }
    },
    {
      "cell_type": "markdown",
      "source": [
        "5"
      ],
      "metadata": {
        "id": "xvZzxYar9A0n"
      }
    },
    {
      "cell_type": "code",
      "source": [
        "df_sample[\"rank\"] = df_sample['glucose'].rank()\n",
        "\n",
        "sample_smoke = df_sample[df_sample['currentSmoker']==1]\n",
        "sample_non =  df_sample[df_sample['currentSmoker']==0]\n",
        "s1= sum(sample_smoke['rank'])\n",
        "\n",
        "n= len(sample_smoke)\n",
        "m = len(sample_non)\n",
        "mu_s1 = n*(1+n+m)/2\n",
        "se = ((n*m*(n+m+1))/12)**0.5\n",
        "T= (s1- mu_s1)/se\n",
        "\n",
        "print(\"normal approximation:\")\n",
        "if T>= stats.norm.ppf(0.95):\n",
        "    print(\"Reject null hypothesis\")\n",
        "else:\n",
        "    print(\"Accept null hypothesis\")\n",
        "\n",
        "\n",
        "######################################\n",
        "bootstrap =[]\n",
        "\n",
        "for i in range(B):\n",
        "    new = df_sample.sample(B_sample_size, replace= True)\n",
        "    new_smoke = new[new['currentSmoker']==1]\n",
        "    su = sum(new_smoke['rank'])\n",
        "    bootstrap.append(su)\n",
        "\n",
        "\n",
        "    \n",
        "counter = 0\n",
        "for i in range(len(bootstrap)):\n",
        "    if bootstrap[i]>= s1:\n",
        "        counter+=1\n",
        "\n",
        "\n",
        "\n",
        "print(\"           \")\n",
        "p_val = counter/B\n",
        "print(\"Estimated pvalue is: \", p_val)\n",
        "print(\"according to permutations test:\")\n",
        "if p_val < 0.05:\n",
        "    print(\"reject null hypothesis\")\n",
        "else:\n",
        "    print(\"accept null hypothesis\")"
      ],
      "metadata": {
        "colab": {
          "base_uri": "https://localhost:8080/",
          "height": 0
        },
        "id": "OVe52r1safsx",
        "outputId": "1b238ae0-9649-44d7-97cd-3b9ebc0739bb"
      },
      "execution_count": 72,
      "outputs": [
        {
          "output_type": "stream",
          "name": "stdout",
          "text": [
            "normal approximation:\n",
            "Accept null hypothesis\n",
            "           \n",
            "Estimated pvalue is:  0.82\n",
            "according to permutations test:\n",
            "accept null hypothesis\n"
          ]
        }
      ]
    },
    {
      "cell_type": "markdown",
      "source": [
        "המדגמים שבחרנו מספיק גדולים (שניהם מעל 85 )כדי שנוכל להפעיל קירוב בעזרת נורמליות.\n",
        "\n",
        "\n",
        "קיבלנו בשתי המבחנים את אותה תוצאה, שאנחנו לא דוחים את השערת האפס\n",
        "\n",
        "\n"
      ],
      "metadata": {
        "id": "uOsA05R_dvwq"
      }
    },
    {
      "cell_type": "markdown",
      "source": [
        "6\n",
        "\n",
        "קיבלנו תוצאות דומות בכל המבחנים שביצענו בין אם בדרנו הפרשי ממוצעים ובין אם בדקנו הפרשי חציונים. הסיבה לכך היא שהפרשי הממוצעים מאוד קרובים להפרשי החציונים (פחות מ1) ולכן גם קיבלנו ערכי pvalue גבוהים יחסית\n",
        "\n",
        "אם מסתכלים על ההיסטוגרמות קשה להגיד שזה נכון בגלל שרמת הגלוקוז מתפלגת שונה בין מעשנים ללא מעשנים. אך כשמסתכלים על המדדים הם כל כך קרובים כך שהנחנו מראש שלא נדחה את השערת האפס שלנו. "
      ],
      "metadata": {
        "id": "j0VayRh9eXm0"
      }
    }
  ]
}